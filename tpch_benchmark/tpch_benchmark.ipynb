{
 "cells": [
  {
   "cell_type": "markdown",
   "metadata": {},
   "source": [
    "# Performance Experiments Using TPC-H"
   ]
  },
  {
   "cell_type": "markdown",
   "metadata": {},
   "source": [
    "## Imports"
   ]
  },
  {
   "cell_type": "code",
   "execution_count": 1,
   "metadata": {},
   "outputs": [],
   "source": [
    "import snowflake.connector\n",
    "import pandas as pd\n",
    "import time\n",
    "import os \n",
    "import plotly.express as px"
   ]
  },
  {
   "cell_type": "markdown",
   "metadata": {},
   "source": [
    "## Setting up the connection"
   ]
  },
  {
   "cell_type": "code",
   "execution_count": 2,
   "metadata": {},
   "outputs": [],
   "source": [
    "PASSWORD = os.getenv(\"PASSWORD\")"
   ]
  },
  {
   "cell_type": "code",
   "execution_count": 3,
   "metadata": {},
   "outputs": [],
   "source": [
    "conn = snowflake.connector.connect(\n",
    "    user='COYOTE',             \n",
    "    password= PASSWORD,    \n",
    "    account='sfedu02-gyb58550',\n",
    "    schema='TPCH_SF1',    \n",
    "    warehouse='COYOTE_XS',     \n",
    "    database='SNOWFLAKE_SAMPLE_DATA'\n",
    ")"
   ]
  },
  {
   "cell_type": "markdown",
   "metadata": {},
   "source": [
    "## Warehouses and caching"
   ]
  },
  {
   "cell_type": "code",
   "execution_count": 4,
   "metadata": {},
   "outputs": [
    {
     "name": "stdout",
     "output_type": "stream",
     "text": [
      "Caching has been turned off for the session.\n",
      "Created or replaced warehouse: COYOTE_WH_XS\n",
      "Created or replaced warehouse: COYOTE_WH_S\n",
      "Created or replaced warehouse: COYOTE_WH_M\n",
      "Created or replaced warehouse: COYOTE_WH_L\n"
     ]
    }
   ],
   "source": [
    "with conn.cursor() as cursor:\n",
    "    cursor.execute(\"ALTER SESSION SET USE_CACHED_RESULT = FALSE;\")\n",
    "print(\"Caching has been turned off for the session.\")\n",
    "\n",
    "warehouse_sizes = ['XS', 'S', 'M', 'L']\n",
    "warehouse_real_sizes = ['XSMALL', 'SMALL', 'MEDIUM', 'LARGE']\n",
    "schemas = ['TPCH_SF1', 'TPCH_SF10', 'TPCH_SF100', 'TPCH_SF1000']\n",
    "warehouse_names = [f\"COYOTE_WH_{size}\" for size in warehouse_sizes]\n",
    "\n",
    "for warehouse_name, size in zip(warehouse_names, warehouse_real_sizes):\n",
    "    with conn.cursor() as cursor:\n",
    "        cursor.execute(f\"\"\"\n",
    "        CREATE OR REPLACE WAREHOUSE {warehouse_name}\n",
    "        WAREHOUSE_SIZE = '{size}',\n",
    "        AUTO_SUSPEND = 10;\n",
    "        \"\"\")\n",
    "        print(f\"Created or replaced warehouse: {warehouse_name}\")"
   ]
  },
  {
   "cell_type": "markdown",
   "metadata": {},
   "source": [
    "## Queries (taken from  https://docs.snowflake.com/en/user-guide/sample-data-tpch -> https://www.tpc.org/tpc_documents_current_versions/pdf/tpc-h_v2.17.1.pdf)"
   ]
  },
  {
   "cell_type": "code",
   "execution_count": 5,
   "metadata": {},
   "outputs": [],
   "source": [
    "queries = [\n",
    "    {\n",
    "        'name': 'Query1',\n",
    "        'sql': \"\"\"\n",
    "        SELECT\n",
    "            l_returnflag,\n",
    "            l_linestatus,\n",
    "            sum(l_quantity) as sum_qty,\n",
    "            sum(l_extendedprice) as sum_base_price,\n",
    "            sum(l_extendedprice * (1-l_discount)) as sum_disc_price,\n",
    "            sum(l_extendedprice * (1-l_discount) * (1+l_tax)) as sum_charge,\n",
    "            avg(l_quantity) as avg_qty,\n",
    "            avg(l_extendedprice) as avg_price,\n",
    "            avg(l_discount) as avg_disc,\n",
    "            count(*) as count_order\n",
    "        FROM\n",
    "            lineitem\n",
    "        WHERE\n",
    "            l_shipdate <= dateadd(day, -90, to_date('1998-12-01'))\n",
    "        GROUP BY\n",
    "            l_returnflag,\n",
    "            l_linestatus\n",
    "        ORDER BY\n",
    "            l_returnflag,\n",
    "            l_linestatus;\n",
    "        \"\"\"\n",
    "    },\n",
    "    {\n",
    "        'name': 'Query5',\n",
    "        'sql': \"\"\"\n",
    "        SELECT\n",
    "            n_name,\n",
    "            SUM(l_extendedprice * (1 - l_discount)) AS revenue\n",
    "        FROM\n",
    "            customer,\n",
    "            orders,\n",
    "            lineitem,\n",
    "            supplier,\n",
    "            nation,\n",
    "            region\n",
    "        WHERE\n",
    "            c_custkey = o_custkey\n",
    "            AND l_orderkey = o_orderkey\n",
    "            AND l_suppkey = s_suppkey\n",
    "            AND c_nationkey = s_nationkey\n",
    "            AND s_nationkey = n_nationkey\n",
    "            AND n_regionkey = r_regionkey\n",
    "            AND r_name = 'ASIA'\n",
    "            AND o_orderdate >= DATE '1994-01-01'\n",
    "            AND o_orderdate < DATEADD(year, 1, '1994-01-01')\n",
    "        GROUP BY\n",
    "            n_name\n",
    "        ORDER BY\n",
    "            revenue DESC;\n",
    "        \"\"\"\n",
    "    },\n",
    "    {\n",
    "        'name': 'Query18',\n",
    "        'sql': \"\"\"\n",
    "        SELECT\n",
    "            c_name,\n",
    "            c_custkey,\n",
    "            o_orderkey,\n",
    "            o_orderdate,\n",
    "            o_totalprice,\n",
    "            SUM(l_quantity)\n",
    "        FROM\n",
    "            customer,\n",
    "            orders,\n",
    "            lineitem\n",
    "        WHERE\n",
    "            o_orderkey IN (\n",
    "                SELECT\n",
    "                    l_orderkey\n",
    "                FROM\n",
    "                    lineitem\n",
    "                GROUP BY\n",
    "                    l_orderkey\n",
    "                HAVING\n",
    "                    SUM(l_quantity) > 313\n",
    "            )\n",
    "            AND c_custkey = o_custkey\n",
    "            AND o_orderkey = l_orderkey\n",
    "        GROUP BY\n",
    "            c_name,\n",
    "            c_custkey,\n",
    "            o_orderkey,\n",
    "            o_orderdate,\n",
    "            o_totalprice\n",
    "        ORDER BY\n",
    "            o_totalprice DESC,\n",
    "            o_orderdate;\n",
    "        \"\"\"\n",
    "    }\n",
    "]"
   ]
  },
  {
   "cell_type": "markdown",
   "metadata": {},
   "source": [
    "## Experiments"
   ]
  },
  {
   "cell_type": "markdown",
   "metadata": {},
   "source": [
    "Takes around ~1 hour to run all the combinations."
   ]
  },
  {
   "cell_type": "code",
   "execution_count": 6,
   "metadata": {},
   "outputs": [
    {
     "name": "stdout",
     "output_type": "stream",
     "text": [
      "Switched to warehouse: XS\n",
      "Switched to schema: TPCH_SF1\n",
      "Executed Query1, Run 1, Query ID: 01b86ac4-0004-3340-0000-137f00519ae2\n",
      "Executed Query1, Run 2, Query ID: 01b86ac5-0004-30ff-0000-137f0051a8ba\n",
      "Executed Query1, Run 3, Query ID: 01b86ac5-0004-3340-0000-137f00519ae6\n",
      "Executed Query5, Run 1, Query ID: 01b86ac5-0004-30ff-0000-137f0051a8be\n",
      "Executed Query5, Run 2, Query ID: 01b86ac5-0004-3340-0000-137f00519aea\n",
      "Executed Query5, Run 3, Query ID: 01b86ac5-0004-30ff-0000-137f0051a8c2\n",
      "Executed Query18, Run 1, Query ID: 01b86ac5-0004-3340-0000-137f00519aee\n",
      "Executed Query18, Run 2, Query ID: 01b86ac5-0004-30ff-0000-137f0051a8c6\n",
      "Executed Query18, Run 3, Query ID: 01b86ac5-0004-3340-0000-137f00519af2\n",
      "Switched to schema: TPCH_SF10\n",
      "Executed Query1, Run 1, Query ID: 01b86ac5-0004-3340-0000-137f00519af6\n",
      "Executed Query1, Run 2, Query ID: 01b86ac5-0004-30ff-0000-137f0051a8ce\n",
      "Executed Query1, Run 3, Query ID: 01b86ac5-0004-3340-0000-137f00519afa\n",
      "Executed Query5, Run 1, Query ID: 01b86ac5-0004-30ff-0000-137f0051a8d2\n",
      "Executed Query5, Run 2, Query ID: 01b86ac5-0004-3340-0000-137f00519afe\n",
      "Executed Query5, Run 3, Query ID: 01b86ac5-0004-30ff-0000-137f0051a8d6\n",
      "Executed Query18, Run 1, Query ID: 01b86ac5-0004-3340-0000-137f00519b02\n",
      "Executed Query18, Run 2, Query ID: 01b86ac5-0004-30ff-0000-137f0051a8da\n",
      "Executed Query18, Run 3, Query ID: 01b86ac5-0004-3340-0000-137f00519b06\n",
      "Switched to schema: TPCH_SF100\n",
      "Executed Query1, Run 1, Query ID: 01b86ac5-0004-30ff-0000-137f0051a8de\n",
      "Executed Query1, Run 2, Query ID: 01b86ac5-0004-3340-0000-137f00519b0e\n",
      "Executed Query1, Run 3, Query ID: 01b86ac5-0004-30ff-0000-137f0051a8e2\n",
      "Executed Query5, Run 1, Query ID: 01b86ac5-0004-3340-0000-137f00519b12\n",
      "Executed Query5, Run 2, Query ID: 01b86ac6-0004-30ff-0000-137f0051a8e6\n",
      "Executed Query5, Run 3, Query ID: 01b86ac6-0004-3340-0000-137f00519b16\n",
      "Executed Query18, Run 1, Query ID: 01b86ac6-0004-30ff-0000-137f0051a8ea\n",
      "Executed Query18, Run 2, Query ID: 01b86ac6-0004-3340-0000-137f00519b1a\n",
      "Executed Query18, Run 3, Query ID: 01b86ac7-0004-30ff-0000-137f0051a8ee\n",
      "Switched to schema: TPCH_SF1000\n",
      "Executed Query1, Run 1, Query ID: 01b86ac7-0004-30ff-0000-137f0051a8f2\n",
      "Executed Query1, Run 2, Query ID: 01b86ac9-0004-30ff-0000-137f0051a8f6\n",
      "Executed Query1, Run 3, Query ID: 01b86acb-0004-30ff-0000-137f0051a8fa\n",
      "Executed Query5, Run 1, Query ID: 01b86acc-0004-30ff-0000-137f0051a90e\n",
      "Executed Query5, Run 2, Query ID: 01b86ace-0004-30ff-0000-137f0051a912\n",
      "Executed Query5, Run 3, Query ID: 01b86ad0-0004-3340-0000-137f00519b26\n",
      "Executed Query18, Run 1, Query ID: 01b86ad1-0004-30ff-0000-137f0051a94a\n",
      "Executed Query18, Run 2, Query ID: 01b86ad8-0004-3340-0000-137f00519b2a\n",
      "Executed Query18, Run 3, Query ID: 01b86adf-0004-30ff-0000-137f0051a94e\n",
      "Switched to warehouse: S\n",
      "Switched to schema: TPCH_SF1\n",
      "Executed Query1, Run 1, Query ID: 01b86ae5-0004-3340-0000-137f00519b32\n",
      "Executed Query1, Run 2, Query ID: 01b86ae5-0004-30ff-0000-137f0051a956\n",
      "Executed Query1, Run 3, Query ID: 01b86ae5-0004-3340-0000-137f00519b36\n",
      "Executed Query5, Run 1, Query ID: 01b86ae5-0004-30ff-0000-137f0051a95a\n",
      "Executed Query5, Run 2, Query ID: 01b86ae5-0004-3340-0000-137f00519b3a\n",
      "Executed Query5, Run 3, Query ID: 01b86ae5-0004-30ff-0000-137f0051a95e\n",
      "Executed Query18, Run 1, Query ID: 01b86ae5-0004-3340-0000-137f00519b3e\n",
      "Executed Query18, Run 2, Query ID: 01b86ae5-0004-30ff-0000-137f0051a962\n",
      "Executed Query18, Run 3, Query ID: 01b86ae5-0004-3340-0000-137f00519b42\n",
      "Switched to schema: TPCH_SF10\n",
      "Executed Query1, Run 1, Query ID: 01b86ae5-0004-3340-0000-137f00519b46\n",
      "Executed Query1, Run 2, Query ID: 01b86ae5-0004-30ff-0000-137f0051a96a\n",
      "Executed Query1, Run 3, Query ID: 01b86ae5-0004-3340-0000-137f00519b4a\n",
      "Executed Query5, Run 1, Query ID: 01b86ae5-0004-30ff-0000-137f0051a96e\n",
      "Executed Query5, Run 2, Query ID: 01b86ae5-0004-3340-0000-137f00519b4e\n",
      "Executed Query5, Run 3, Query ID: 01b86ae5-0004-30ff-0000-137f0051a972\n",
      "Executed Query18, Run 1, Query ID: 01b86ae5-0004-3340-0000-137f00519b52\n",
      "Executed Query18, Run 2, Query ID: 01b86ae5-0004-30ff-0000-137f0051a976\n",
      "Executed Query18, Run 3, Query ID: 01b86ae5-0004-3340-0000-137f00519b56\n",
      "Switched to schema: TPCH_SF100\n",
      "Executed Query1, Run 1, Query ID: 01b86ae5-0004-3340-0000-137f00519b5a\n",
      "Executed Query1, Run 2, Query ID: 01b86ae6-0004-30ff-0000-137f0051a97e\n",
      "Executed Query1, Run 3, Query ID: 01b86ae6-0004-3340-0000-137f00519b5e\n",
      "Executed Query5, Run 1, Query ID: 01b86ae6-0004-30ff-0000-137f0051a982\n",
      "Executed Query5, Run 2, Query ID: 01b86ae6-0004-3340-0000-137f00519b62\n",
      "Executed Query5, Run 3, Query ID: 01b86ae6-0004-30ff-0000-137f0051a986\n",
      "Executed Query18, Run 1, Query ID: 01b86ae6-0004-3340-0000-137f00519b66\n",
      "Executed Query18, Run 2, Query ID: 01b86ae6-0004-30ff-0000-137f0051a98a\n",
      "Executed Query18, Run 3, Query ID: 01b86ae6-0004-3340-0000-137f00519b6a\n",
      "Switched to schema: TPCH_SF1000\n",
      "Executed Query1, Run 1, Query ID: 01b86ae7-0004-3340-0000-137f00519b6e\n",
      "Executed Query1, Run 2, Query ID: 01b86ae8-0004-30ff-0000-137f0051a992\n",
      "Executed Query1, Run 3, Query ID: 01b86ae9-0004-30ff-0000-137f0051a996\n",
      "Executed Query5, Run 1, Query ID: 01b86ae9-0004-30ff-0000-137f0051a99a\n",
      "Executed Query5, Run 2, Query ID: 01b86aeb-0004-30ff-0000-137f0051a99e\n",
      "Executed Query5, Run 3, Query ID: 01b86aeb-0004-3340-0000-137f00519b72\n",
      "Executed Query18, Run 1, Query ID: 01b86aec-0004-3340-0000-137f00519b76\n",
      "Executed Query18, Run 2, Query ID: 01b86af0-0004-3340-0000-137f00519b7a\n",
      "Executed Query18, Run 3, Query ID: 01b86af3-0004-3340-0000-137f00519b7e\n",
      "Switched to warehouse: M\n",
      "Switched to schema: TPCH_SF1\n",
      "Executed Query1, Run 1, Query ID: 01b86af7-0004-3340-0000-137f00519b86\n",
      "Executed Query1, Run 2, Query ID: 01b86af7-0004-30ff-0000-137f0051a9a6\n",
      "Executed Query1, Run 3, Query ID: 01b86af7-0004-3340-0000-137f00519b8a\n",
      "Executed Query5, Run 1, Query ID: 01b86af7-0004-30ff-0000-137f0051a9aa\n",
      "Executed Query5, Run 2, Query ID: 01b86af7-0004-3340-0000-137f00519b8e\n",
      "Executed Query5, Run 3, Query ID: 01b86af7-0004-30ff-0000-137f0051a9ae\n",
      "Executed Query18, Run 1, Query ID: 01b86af7-0004-3340-0000-137f00519b92\n",
      "Executed Query18, Run 2, Query ID: 01b86af7-0004-30ff-0000-137f0051a9b2\n",
      "Executed Query18, Run 3, Query ID: 01b86af7-0004-3340-0000-137f00519b96\n",
      "Switched to schema: TPCH_SF10\n",
      "Executed Query1, Run 1, Query ID: 01b86af7-0004-30ff-0000-137f0051a9ba\n",
      "Executed Query1, Run 2, Query ID: 01b86af7-0004-3340-0000-137f00519b9a\n",
      "Executed Query1, Run 3, Query ID: 01b86af7-0004-30ff-0000-137f0051a9be\n",
      "Executed Query5, Run 1, Query ID: 01b86af7-0004-3340-0000-137f00519b9e\n",
      "Executed Query5, Run 2, Query ID: 01b86af7-0004-30ff-0000-137f0051a9c2\n",
      "Executed Query5, Run 3, Query ID: 01b86af7-0004-3340-0000-137f00519ba2\n",
      "Executed Query18, Run 1, Query ID: 01b86af7-0004-30ff-0000-137f0051a9c6\n",
      "Executed Query18, Run 2, Query ID: 01b86af7-0004-3340-0000-137f00519ba6\n",
      "Executed Query18, Run 3, Query ID: 01b86af7-0004-30ff-0000-137f0051a9ca\n",
      "Switched to schema: TPCH_SF100\n",
      "Executed Query1, Run 1, Query ID: 01b86af7-0004-30ff-0000-137f0051a9ce\n",
      "Executed Query1, Run 2, Query ID: 01b86af7-0004-3340-0000-137f00519bae\n",
      "Executed Query1, Run 3, Query ID: 01b86af7-0004-30ff-0000-137f0051a9d2\n",
      "Executed Query5, Run 1, Query ID: 01b86af7-0004-3340-0000-137f00519bb2\n",
      "Executed Query5, Run 2, Query ID: 01b86af7-0004-30ff-0000-137f0051a9d6\n",
      "Executed Query5, Run 3, Query ID: 01b86af7-0004-3340-0000-137f00519bb6\n",
      "Executed Query18, Run 1, Query ID: 01b86af8-0004-30ff-0000-137f0051a9da\n",
      "Executed Query18, Run 2, Query ID: 01b86af8-0004-3340-0000-137f00519bba\n",
      "Executed Query18, Run 3, Query ID: 01b86af8-0004-30ff-0000-137f0051a9de\n",
      "Switched to schema: TPCH_SF1000\n",
      "Executed Query1, Run 1, Query ID: 01b86af8-0004-30ff-0000-137f0051a9e2\n",
      "Executed Query1, Run 2, Query ID: 01b86af8-0004-3340-0000-137f00519bc2\n",
      "Executed Query1, Run 3, Query ID: 01b86af9-0004-30ff-0000-137f0051a9e6\n",
      "Executed Query5, Run 1, Query ID: 01b86af9-0004-3340-0000-137f00519bc6\n",
      "Executed Query5, Run 2, Query ID: 01b86afa-0004-30ff-0000-137f0051a9ea\n",
      "Executed Query5, Run 3, Query ID: 01b86afa-0004-30ff-0000-137f0051a9ee\n",
      "Executed Query18, Run 1, Query ID: 01b86afb-0004-3340-0000-137f00519bca\n",
      "Executed Query18, Run 2, Query ID: 01b86afc-0004-30ff-0000-137f0051a9f2\n",
      "Executed Query18, Run 3, Query ID: 01b86afe-0004-30ff-0000-137f0051a9f6\n",
      "Switched to warehouse: L\n",
      "Switched to schema: TPCH_SF1\n",
      "Executed Query1, Run 1, Query ID: 01b86aff-0004-30ff-0000-137f0051a9fe\n",
      "Executed Query1, Run 2, Query ID: 01b86aff-0004-3340-0000-137f00519bd2\n",
      "Executed Query1, Run 3, Query ID: 01b86aff-0004-3340-0000-137f00519bd6\n",
      "Executed Query5, Run 1, Query ID: 01b86aff-0004-30ff-0000-137f0051aa02\n",
      "Executed Query5, Run 2, Query ID: 01b86aff-0004-3340-0000-137f00519bda\n",
      "Executed Query5, Run 3, Query ID: 01b86aff-0004-30ff-0000-137f0051aa06\n",
      "Executed Query18, Run 1, Query ID: 01b86aff-0004-3340-0000-137f00519bde\n",
      "Executed Query18, Run 2, Query ID: 01b86aff-0004-30ff-0000-137f0051aa0a\n",
      "Executed Query18, Run 3, Query ID: 01b86aff-0004-3340-0000-137f00519be2\n",
      "Switched to schema: TPCH_SF10\n",
      "Executed Query1, Run 1, Query ID: 01b86b00-0004-3340-0000-137f00519be6\n",
      "Executed Query1, Run 2, Query ID: 01b86b00-0004-30ff-0000-137f0051aa12\n",
      "Executed Query1, Run 3, Query ID: 01b86b00-0004-3340-0000-137f00519bea\n",
      "Executed Query5, Run 1, Query ID: 01b86b00-0004-30ff-0000-137f0051aa16\n",
      "Executed Query5, Run 2, Query ID: 01b86b00-0004-3340-0000-137f00519bee\n",
      "Executed Query5, Run 3, Query ID: 01b86b00-0004-30ff-0000-137f0051aa1a\n",
      "Executed Query18, Run 1, Query ID: 01b86b00-0004-3340-0000-137f00519bf2\n",
      "Executed Query18, Run 2, Query ID: 01b86b00-0004-30ff-0000-137f0051aa1e\n",
      "Executed Query18, Run 3, Query ID: 01b86b00-0004-3340-0000-137f00519bf6\n",
      "Switched to schema: TPCH_SF100\n",
      "Executed Query1, Run 1, Query ID: 01b86b00-0004-3340-0000-137f00519bfa\n",
      "Executed Query1, Run 2, Query ID: 01b86b00-0004-30ff-0000-137f0051aa26\n",
      "Executed Query1, Run 3, Query ID: 01b86b00-0004-3340-0000-137f00519bfe\n",
      "Executed Query5, Run 1, Query ID: 01b86b00-0004-30ff-0000-137f0051aa2a\n",
      "Executed Query5, Run 2, Query ID: 01b86b00-0004-3340-0000-137f00519c02\n",
      "Executed Query5, Run 3, Query ID: 01b86b00-0004-30ff-0000-137f0051aa2e\n",
      "Executed Query18, Run 1, Query ID: 01b86b00-0004-3340-0000-137f00519c06\n",
      "Executed Query18, Run 2, Query ID: 01b86b00-0004-30ff-0000-137f0051aa32\n",
      "Executed Query18, Run 3, Query ID: 01b86b00-0004-3340-0000-137f00519c0a\n",
      "Switched to schema: TPCH_SF1000\n",
      "Executed Query1, Run 1, Query ID: 01b86b00-0004-3340-0000-137f00519c0e\n",
      "Executed Query1, Run 2, Query ID: 01b86b00-0004-30ff-0000-137f0051aa3a\n",
      "Executed Query1, Run 3, Query ID: 01b86b01-0004-3340-0000-137f00519c12\n",
      "Executed Query5, Run 1, Query ID: 01b86b01-0004-30ff-0000-137f0051aa3e\n",
      "Executed Query5, Run 2, Query ID: 01b86b01-0004-3340-0000-137f00519c16\n",
      "Executed Query5, Run 3, Query ID: 01b86b01-0004-3340-0000-137f00519c1a\n",
      "Executed Query18, Run 1, Query ID: 01b86b02-0004-30ff-0000-137f0051aa42\n",
      "Executed Query18, Run 2, Query ID: 01b86b02-0004-3340-0000-137f00519c1e\n",
      "Executed Query18, Run 3, Query ID: 01b86b03-0004-30ff-0000-137f0051aa46\n"
     ]
    }
   ],
   "source": [
    "results = []\n",
    "username = 'COYOTE'  \n",
    "# run_number = 1\n",
    "\n",
    "for warehouse_size in warehouse_sizes:\n",
    "    with conn.cursor() as cursor:\n",
    "        cursor.execute(f\"USE WAREHOUSE COYOTE_WH_{warehouse_size}\")\n",
    "    print(f\"Switched to warehouse: {warehouse_size}\")\n",
    "    \n",
    "    for schema_name in schemas:\n",
    "        with conn.cursor() as cursor:\n",
    "            cursor.execute(f\"USE SCHEMA {schema_name}\")\n",
    "        print(f\"Switched to schema: {schema_name}\")\n",
    "        \n",
    "        for query in queries:\n",
    "            query_name = query['name']\n",
    "            query_sql = query['sql']\n",
    "            \n",
    "            for run_number in range(1, 4):\n",
    "                with conn.cursor() as cursor:\n",
    "                    try:\n",
    "                        cursor.execute(query_sql)\n",
    "                        query_id = cursor.sfqid \n",
    "                        print(f\"Executed {query_name}, Run {run_number}, Query ID: {query_id}\")\n",
    "                        \n",
    "                        results.append({\n",
    "                            'query_id': query_id,\n",
    "                            'schema_name': schema_name,\n",
    "                            'warehouse_size': warehouse_size,\n",
    "                            'query_name': query_name,\n",
    "                            'run_number': run_number\n",
    "                        })\n",
    "                        \n",
    "                    except Exception as e:\n",
    "                        print(f\"Error executing {query_name}: {e}\")\n",
    "                    \n",
    "                    # time.sleep(2)"
   ]
  },
  {
   "cell_type": "markdown",
   "metadata": {},
   "source": [
    "## Retrieving and saving the results"
   ]
  },
  {
   "cell_type": "code",
   "execution_count": 7,
   "metadata": {},
   "outputs": [],
   "source": [
    "query_ids = [result['query_id'] for result in results]\n",
    "query_ids_str = ','.join([f\"'{qid}'\" for qid in query_ids])\n",
    "\n",
    "query_history_sql = f\"\"\"\n",
    "SELECT\n",
    "    query_id,\n",
    "    schema_name,\n",
    "    warehouse_name AS warehouse_size,\n",
    "    total_elapsed_time/1000 AS time_elapsed_in_seconds\n",
    "FROM\n",
    "    table(information_schema.query_history(RESULT_LIMIT => 1000))\n",
    "WHERE\n",
    "    user_name = '{username.upper()}'\n",
    "    AND execution_status = 'SUCCESS'\n",
    "    AND query_id IN ({query_ids_str})\n",
    "    ORDER BY start_time\n",
    "\"\"\"\n",
    "\n",
    "with conn.cursor() as cursor:\n",
    "    cursor.execute(query_history_sql)\n",
    "    df_history = pd.DataFrame.from_records(iter(cursor), columns=[x[0].lower() for x in cursor.description])\n",
    "\n",
    "df_history.columns = df_history.columns.str.lower()\n",
    "\n",
    "df_history['query_id'] = df_history['query_id'].str.upper()\n",
    "results_df = pd.DataFrame(results)\n",
    "results_df['query_id'] = results_df['query_id'].str.upper()\n",
    "\n",
    "final_df = pd.merge(results_df, df_history, on='query_id')\n",
    "\n",
    "for col in ['schema_name', 'warehouse_size']:\n",
    "    if f\"{col}_x\" in final_df.columns:\n",
    "        final_df.rename(columns={f\"{col}_x\": col}, inplace=True)\n",
    "    elif f\"{col}_results\" in final_df.columns:\n",
    "        final_df.rename(columns={f\"{col}_results\": col}, inplace=True)\n",
    "    elif f\"{col}_y\" in final_df.columns:\n",
    "        final_df.rename(columns={f\"{col}_y\": col}, inplace=True)\n",
    "    elif f\"{col}_history\" in final_df.columns:\n",
    "        final_df.rename(columns={f\"{col}_history\": col}, inplace=True)\n",
    "\n",
    "final_df = final_df[['query_id', 'query_name', 'schema_name', 'warehouse_size', 'run_number', \n",
    "                     'time_elapsed_in_seconds']]\n",
    "\n",
    "final_df.to_csv('../tpch_benchmark/query_execution_times.csv', index=False)"
   ]
  },
  {
   "cell_type": "code",
   "execution_count": 8,
   "metadata": {},
   "outputs": [],
   "source": [
    "grouped_df = final_df.groupby(['query_name', 'schema_name', 'warehouse_size'])\n",
    "\n",
    "average_times_df = grouped_df['time_elapsed_in_seconds'].mean().reset_index()\n",
    "\n",
    "average_times_df.rename(columns={'time_elapsed_in_seconds': 'average_time_seconds'}, inplace=True)\n",
    "\n",
    "average_times_df.sort_values(by='average_time_seconds', inplace=True)\n",
    "average_times_df.to_csv('../tpch_benchmark/average_query_execution_times.csv', index=False)"
   ]
  },
  {
   "cell_type": "code",
   "execution_count": 9,
   "metadata": {},
   "outputs": [
    {
     "data": {
      "text/html": [
       "<div>\n",
       "<style scoped>\n",
       "    .dataframe tbody tr th:only-of-type {\n",
       "        vertical-align: middle;\n",
       "    }\n",
       "\n",
       "    .dataframe tbody tr th {\n",
       "        vertical-align: top;\n",
       "    }\n",
       "\n",
       "    .dataframe thead th {\n",
       "        text-align: right;\n",
       "    }\n",
       "</style>\n",
       "<table border=\"1\" class=\"dataframe\">\n",
       "  <thead>\n",
       "    <tr style=\"text-align: right;\">\n",
       "      <th></th>\n",
       "      <th>query_name</th>\n",
       "      <th>schema_name</th>\n",
       "      <th>warehouse_size</th>\n",
       "      <th>average_time_seconds</th>\n",
       "    </tr>\n",
       "  </thead>\n",
       "  <tbody>\n",
       "    <tr>\n",
       "      <th>0</th>\n",
       "      <td>Query18</td>\n",
       "      <td>TPCH_SF1</td>\n",
       "      <td>L</td>\n",
       "      <td>0.254333</td>\n",
       "    </tr>\n",
       "    <tr>\n",
       "      <th>1</th>\n",
       "      <td>Query18</td>\n",
       "      <td>TPCH_SF1</td>\n",
       "      <td>M</td>\n",
       "      <td>0.268667</td>\n",
       "    </tr>\n",
       "    <tr>\n",
       "      <th>2</th>\n",
       "      <td>Query18</td>\n",
       "      <td>TPCH_SF1</td>\n",
       "      <td>S</td>\n",
       "      <td>0.336000</td>\n",
       "    </tr>\n",
       "    <tr>\n",
       "      <th>3</th>\n",
       "      <td>Query18</td>\n",
       "      <td>TPCH_SF1</td>\n",
       "      <td>XS</td>\n",
       "      <td>0.372667</td>\n",
       "    </tr>\n",
       "    <tr>\n",
       "      <th>4</th>\n",
       "      <td>Query1</td>\n",
       "      <td>TPCH_SF10</td>\n",
       "      <td>L</td>\n",
       "      <td>0.397667</td>\n",
       "    </tr>\n",
       "    <tr>\n",
       "      <th>5</th>\n",
       "      <td>Query5</td>\n",
       "      <td>TPCH_SF1</td>\n",
       "      <td>M</td>\n",
       "      <td>0.482000</td>\n",
       "    </tr>\n",
       "    <tr>\n",
       "      <th>6</th>\n",
       "      <td>Query1</td>\n",
       "      <td>TPCH_SF1</td>\n",
       "      <td>XS</td>\n",
       "      <td>0.492333</td>\n",
       "    </tr>\n",
       "    <tr>\n",
       "      <th>7</th>\n",
       "      <td>Query1</td>\n",
       "      <td>TPCH_SF1</td>\n",
       "      <td>S</td>\n",
       "      <td>0.512333</td>\n",
       "    </tr>\n",
       "    <tr>\n",
       "      <th>8</th>\n",
       "      <td>Query1</td>\n",
       "      <td>TPCH_SF10</td>\n",
       "      <td>M</td>\n",
       "      <td>0.527000</td>\n",
       "    </tr>\n",
       "    <tr>\n",
       "      <th>9</th>\n",
       "      <td>Query5</td>\n",
       "      <td>TPCH_SF1</td>\n",
       "      <td>L</td>\n",
       "      <td>0.544667</td>\n",
       "    </tr>\n",
       "    <tr>\n",
       "      <th>10</th>\n",
       "      <td>Query1</td>\n",
       "      <td>TPCH_SF1</td>\n",
       "      <td>M</td>\n",
       "      <td>0.557667</td>\n",
       "    </tr>\n",
       "    <tr>\n",
       "      <th>11</th>\n",
       "      <td>Query5</td>\n",
       "      <td>TPCH_SF1</td>\n",
       "      <td>XS</td>\n",
       "      <td>0.570667</td>\n",
       "    </tr>\n",
       "    <tr>\n",
       "      <th>12</th>\n",
       "      <td>Query18</td>\n",
       "      <td>TPCH_SF10</td>\n",
       "      <td>L</td>\n",
       "      <td>0.571333</td>\n",
       "    </tr>\n",
       "    <tr>\n",
       "      <th>13</th>\n",
       "      <td>Query5</td>\n",
       "      <td>TPCH_SF1</td>\n",
       "      <td>S</td>\n",
       "      <td>0.627333</td>\n",
       "    </tr>\n",
       "    <tr>\n",
       "      <th>14</th>\n",
       "      <td>Query1</td>\n",
       "      <td>TPCH_SF10</td>\n",
       "      <td>S</td>\n",
       "      <td>0.641667</td>\n",
       "    </tr>\n",
       "    <tr>\n",
       "      <th>15</th>\n",
       "      <td>Query18</td>\n",
       "      <td>TPCH_SF10</td>\n",
       "      <td>M</td>\n",
       "      <td>0.686000</td>\n",
       "    </tr>\n",
       "    <tr>\n",
       "      <th>16</th>\n",
       "      <td>Query1</td>\n",
       "      <td>TPCH_SF1</td>\n",
       "      <td>L</td>\n",
       "      <td>0.848667</td>\n",
       "    </tr>\n",
       "    <tr>\n",
       "      <th>17</th>\n",
       "      <td>Query5</td>\n",
       "      <td>TPCH_SF10</td>\n",
       "      <td>L</td>\n",
       "      <td>0.900667</td>\n",
       "    </tr>\n",
       "    <tr>\n",
       "      <th>18</th>\n",
       "      <td>Query18</td>\n",
       "      <td>TPCH_SF10</td>\n",
       "      <td>S</td>\n",
       "      <td>0.912000</td>\n",
       "    </tr>\n",
       "    <tr>\n",
       "      <th>19</th>\n",
       "      <td>Query1</td>\n",
       "      <td>TPCH_SF10</td>\n",
       "      <td>XS</td>\n",
       "      <td>0.938667</td>\n",
       "    </tr>\n",
       "    <tr>\n",
       "      <th>20</th>\n",
       "      <td>Query5</td>\n",
       "      <td>TPCH_SF10</td>\n",
       "      <td>M</td>\n",
       "      <td>0.940333</td>\n",
       "    </tr>\n",
       "    <tr>\n",
       "      <th>21</th>\n",
       "      <td>Query5</td>\n",
       "      <td>TPCH_SF10</td>\n",
       "      <td>S</td>\n",
       "      <td>1.077333</td>\n",
       "    </tr>\n",
       "    <tr>\n",
       "      <th>22</th>\n",
       "      <td>Query5</td>\n",
       "      <td>TPCH_SF10</td>\n",
       "      <td>XS</td>\n",
       "      <td>1.147333</td>\n",
       "    </tr>\n",
       "    <tr>\n",
       "      <th>23</th>\n",
       "      <td>Query18</td>\n",
       "      <td>TPCH_SF10</td>\n",
       "      <td>XS</td>\n",
       "      <td>1.253000</td>\n",
       "    </tr>\n",
       "    <tr>\n",
       "      <th>24</th>\n",
       "      <td>Query1</td>\n",
       "      <td>TPCH_SF100</td>\n",
       "      <td>L</td>\n",
       "      <td>1.803333</td>\n",
       "    </tr>\n",
       "    <tr>\n",
       "      <th>25</th>\n",
       "      <td>Query5</td>\n",
       "      <td>TPCH_SF100</td>\n",
       "      <td>L</td>\n",
       "      <td>1.976667</td>\n",
       "    </tr>\n",
       "    <tr>\n",
       "      <th>26</th>\n",
       "      <td>Query5</td>\n",
       "      <td>TPCH_SF100</td>\n",
       "      <td>M</td>\n",
       "      <td>3.004000</td>\n",
       "    </tr>\n",
       "    <tr>\n",
       "      <th>27</th>\n",
       "      <td>Query1</td>\n",
       "      <td>TPCH_SF100</td>\n",
       "      <td>M</td>\n",
       "      <td>3.243667</td>\n",
       "    </tr>\n",
       "    <tr>\n",
       "      <th>28</th>\n",
       "      <td>Query18</td>\n",
       "      <td>TPCH_SF100</td>\n",
       "      <td>L</td>\n",
       "      <td>4.272333</td>\n",
       "    </tr>\n",
       "    <tr>\n",
       "      <th>29</th>\n",
       "      <td>Query5</td>\n",
       "      <td>TPCH_SF100</td>\n",
       "      <td>S</td>\n",
       "      <td>4.641667</td>\n",
       "    </tr>\n",
       "    <tr>\n",
       "      <th>30</th>\n",
       "      <td>Query1</td>\n",
       "      <td>TPCH_SF100</td>\n",
       "      <td>S</td>\n",
       "      <td>6.106333</td>\n",
       "    </tr>\n",
       "    <tr>\n",
       "      <th>31</th>\n",
       "      <td>Query18</td>\n",
       "      <td>TPCH_SF100</td>\n",
       "      <td>M</td>\n",
       "      <td>6.291667</td>\n",
       "    </tr>\n",
       "    <tr>\n",
       "      <th>32</th>\n",
       "      <td>Query5</td>\n",
       "      <td>TPCH_SF100</td>\n",
       "      <td>XS</td>\n",
       "      <td>7.840333</td>\n",
       "    </tr>\n",
       "    <tr>\n",
       "      <th>33</th>\n",
       "      <td>Query1</td>\n",
       "      <td>TPCH_SF100</td>\n",
       "      <td>XS</td>\n",
       "      <td>11.695000</td>\n",
       "    </tr>\n",
       "    <tr>\n",
       "      <th>34</th>\n",
       "      <td>Query18</td>\n",
       "      <td>TPCH_SF100</td>\n",
       "      <td>S</td>\n",
       "      <td>13.144667</td>\n",
       "    </tr>\n",
       "    <tr>\n",
       "      <th>35</th>\n",
       "      <td>Query5</td>\n",
       "      <td>TPCH_SF1000</td>\n",
       "      <td>L</td>\n",
       "      <td>13.260000</td>\n",
       "    </tr>\n",
       "    <tr>\n",
       "      <th>36</th>\n",
       "      <td>Query1</td>\n",
       "      <td>TPCH_SF1000</td>\n",
       "      <td>L</td>\n",
       "      <td>13.760333</td>\n",
       "    </tr>\n",
       "    <tr>\n",
       "      <th>37</th>\n",
       "      <td>Query18</td>\n",
       "      <td>TPCH_SF100</td>\n",
       "      <td>XS</td>\n",
       "      <td>20.667333</td>\n",
       "    </tr>\n",
       "    <tr>\n",
       "      <th>38</th>\n",
       "      <td>Query5</td>\n",
       "      <td>TPCH_SF1000</td>\n",
       "      <td>M</td>\n",
       "      <td>25.491333</td>\n",
       "    </tr>\n",
       "    <tr>\n",
       "      <th>39</th>\n",
       "      <td>Query1</td>\n",
       "      <td>TPCH_SF1000</td>\n",
       "      <td>M</td>\n",
       "      <td>27.329000</td>\n",
       "    </tr>\n",
       "    <tr>\n",
       "      <th>40</th>\n",
       "      <td>Query18</td>\n",
       "      <td>TPCH_SF1000</td>\n",
       "      <td>L</td>\n",
       "      <td>41.346000</td>\n",
       "    </tr>\n",
       "    <tr>\n",
       "      <th>41</th>\n",
       "      <td>Query1</td>\n",
       "      <td>TPCH_SF1000</td>\n",
       "      <td>S</td>\n",
       "      <td>55.112667</td>\n",
       "    </tr>\n",
       "    <tr>\n",
       "      <th>42</th>\n",
       "      <td>Query5</td>\n",
       "      <td>TPCH_SF1000</td>\n",
       "      <td>S</td>\n",
       "      <td>57.336333</td>\n",
       "    </tr>\n",
       "    <tr>\n",
       "      <th>43</th>\n",
       "      <td>Query18</td>\n",
       "      <td>TPCH_SF1000</td>\n",
       "      <td>M</td>\n",
       "      <td>89.342667</td>\n",
       "    </tr>\n",
       "    <tr>\n",
       "      <th>44</th>\n",
       "      <td>Query5</td>\n",
       "      <td>TPCH_SF1000</td>\n",
       "      <td>XS</td>\n",
       "      <td>102.734667</td>\n",
       "    </tr>\n",
       "    <tr>\n",
       "      <th>45</th>\n",
       "      <td>Query1</td>\n",
       "      <td>TPCH_SF1000</td>\n",
       "      <td>XS</td>\n",
       "      <td>108.703000</td>\n",
       "    </tr>\n",
       "    <tr>\n",
       "      <th>46</th>\n",
       "      <td>Query18</td>\n",
       "      <td>TPCH_SF1000</td>\n",
       "      <td>S</td>\n",
       "      <td>203.760667</td>\n",
       "    </tr>\n",
       "    <tr>\n",
       "      <th>47</th>\n",
       "      <td>Query18</td>\n",
       "      <td>TPCH_SF1000</td>\n",
       "      <td>XS</td>\n",
       "      <td>390.974333</td>\n",
       "    </tr>\n",
       "  </tbody>\n",
       "</table>\n",
       "</div>"
      ],
      "text/plain": [
       "   query_name  schema_name warehouse_size  average_time_seconds\n",
       "0     Query18     TPCH_SF1              L              0.254333\n",
       "1     Query18     TPCH_SF1              M              0.268667\n",
       "2     Query18     TPCH_SF1              S              0.336000\n",
       "3     Query18     TPCH_SF1             XS              0.372667\n",
       "4      Query1    TPCH_SF10              L              0.397667\n",
       "5      Query5     TPCH_SF1              M              0.482000\n",
       "6      Query1     TPCH_SF1             XS              0.492333\n",
       "7      Query1     TPCH_SF1              S              0.512333\n",
       "8      Query1    TPCH_SF10              M              0.527000\n",
       "9      Query5     TPCH_SF1              L              0.544667\n",
       "10     Query1     TPCH_SF1              M              0.557667\n",
       "11     Query5     TPCH_SF1             XS              0.570667\n",
       "12    Query18    TPCH_SF10              L              0.571333\n",
       "13     Query5     TPCH_SF1              S              0.627333\n",
       "14     Query1    TPCH_SF10              S              0.641667\n",
       "15    Query18    TPCH_SF10              M              0.686000\n",
       "16     Query1     TPCH_SF1              L              0.848667\n",
       "17     Query5    TPCH_SF10              L              0.900667\n",
       "18    Query18    TPCH_SF10              S              0.912000\n",
       "19     Query1    TPCH_SF10             XS              0.938667\n",
       "20     Query5    TPCH_SF10              M              0.940333\n",
       "21     Query5    TPCH_SF10              S              1.077333\n",
       "22     Query5    TPCH_SF10             XS              1.147333\n",
       "23    Query18    TPCH_SF10             XS              1.253000\n",
       "24     Query1   TPCH_SF100              L              1.803333\n",
       "25     Query5   TPCH_SF100              L              1.976667\n",
       "26     Query5   TPCH_SF100              M              3.004000\n",
       "27     Query1   TPCH_SF100              M              3.243667\n",
       "28    Query18   TPCH_SF100              L              4.272333\n",
       "29     Query5   TPCH_SF100              S              4.641667\n",
       "30     Query1   TPCH_SF100              S              6.106333\n",
       "31    Query18   TPCH_SF100              M              6.291667\n",
       "32     Query5   TPCH_SF100             XS              7.840333\n",
       "33     Query1   TPCH_SF100             XS             11.695000\n",
       "34    Query18   TPCH_SF100              S             13.144667\n",
       "35     Query5  TPCH_SF1000              L             13.260000\n",
       "36     Query1  TPCH_SF1000              L             13.760333\n",
       "37    Query18   TPCH_SF100             XS             20.667333\n",
       "38     Query5  TPCH_SF1000              M             25.491333\n",
       "39     Query1  TPCH_SF1000              M             27.329000\n",
       "40    Query18  TPCH_SF1000              L             41.346000\n",
       "41     Query1  TPCH_SF1000              S             55.112667\n",
       "42     Query5  TPCH_SF1000              S             57.336333\n",
       "43    Query18  TPCH_SF1000              M             89.342667\n",
       "44     Query5  TPCH_SF1000             XS            102.734667\n",
       "45     Query1  TPCH_SF1000             XS            108.703000\n",
       "46    Query18  TPCH_SF1000              S            203.760667\n",
       "47    Query18  TPCH_SF1000             XS            390.974333"
      ]
     },
     "execution_count": 9,
     "metadata": {},
     "output_type": "execute_result"
    }
   ],
   "source": [
    "average_times_df = pd.read_csv('../tpch_benchmark/average_query_execution_times.csv')\n",
    "average_times_df"
   ]
  },
  {
   "cell_type": "markdown",
   "metadata": {},
   "source": [
    "## Plotting the Results"
   ]
  },
  {
   "cell_type": "code",
   "execution_count": 10,
   "metadata": {},
   "outputs": [
    {
     "data": {
      "application/vnd.plotly.v1+json": {
       "config": {
        "plotlyServerURL": "https://plot.ly"
       },
       "data": [
        {
         "hovertemplate": "warehouse_size=XS<br>query_name=Query1<br>Schema=%{x}<br>Average Time (seconds)=%{y}<extra></extra>",
         "legendgroup": "XS",
         "line": {
          "color": "red",
          "dash": "solid"
         },
         "marker": {
          "symbol": "circle"
         },
         "mode": "lines+markers",
         "name": "XS",
         "orientation": "v",
         "showlegend": true,
         "type": "scatter",
         "x": [
          "TPCH_SF1",
          "TPCH_SF10",
          "TPCH_SF100",
          "TPCH_SF1000"
         ],
         "xaxis": "x",
         "y": [
          0.4923333333333333,
          0.9386666666666666,
          11.695,
          108.703
         ],
         "yaxis": "y"
        },
        {
         "hovertemplate": "warehouse_size=XS<br>query_name=Query5<br>Schema=%{x}<br>Average Time (seconds)=%{y}<extra></extra>",
         "legendgroup": "XS",
         "line": {
          "color": "red",
          "dash": "solid"
         },
         "marker": {
          "symbol": "circle"
         },
         "mode": "lines+markers",
         "name": "XS",
         "orientation": "v",
         "showlegend": false,
         "type": "scatter",
         "x": [
          "TPCH_SF1",
          "TPCH_SF10",
          "TPCH_SF100",
          "TPCH_SF1000"
         ],
         "xaxis": "x2",
         "y": [
          0.5706666666666667,
          1.147333333333333,
          7.840333333333334,
          102.73466666666668
         ],
         "yaxis": "y2"
        },
        {
         "hovertemplate": "warehouse_size=XS<br>query_name=Query18<br>Schema=%{x}<br>Average Time (seconds)=%{y}<extra></extra>",
         "legendgroup": "XS",
         "line": {
          "color": "red",
          "dash": "solid"
         },
         "marker": {
          "symbol": "circle"
         },
         "mode": "lines+markers",
         "name": "XS",
         "orientation": "v",
         "showlegend": false,
         "type": "scatter",
         "x": [
          "TPCH_SF1",
          "TPCH_SF10",
          "TPCH_SF100",
          "TPCH_SF1000"
         ],
         "xaxis": "x3",
         "y": [
          0.3726666666666667,
          1.253,
          20.667333333333335,
          390.97433333333333
         ],
         "yaxis": "y3"
        },
        {
         "hovertemplate": "warehouse_size=S<br>query_name=Query1<br>Schema=%{x}<br>Average Time (seconds)=%{y}<extra></extra>",
         "legendgroup": "S",
         "line": {
          "color": "blue",
          "dash": "solid"
         },
         "marker": {
          "symbol": "diamond"
         },
         "mode": "lines+markers",
         "name": "S",
         "orientation": "v",
         "showlegend": true,
         "type": "scatter",
         "x": [
          "TPCH_SF1",
          "TPCH_SF10",
          "TPCH_SF100",
          "TPCH_SF1000"
         ],
         "xaxis": "x",
         "y": [
          0.5123333333333333,
          0.6416666666666667,
          6.106333333333333,
          55.11266666666666
         ],
         "yaxis": "y"
        },
        {
         "hovertemplate": "warehouse_size=S<br>query_name=Query5<br>Schema=%{x}<br>Average Time (seconds)=%{y}<extra></extra>",
         "legendgroup": "S",
         "line": {
          "color": "blue",
          "dash": "solid"
         },
         "marker": {
          "symbol": "diamond"
         },
         "mode": "lines+markers",
         "name": "S",
         "orientation": "v",
         "showlegend": false,
         "type": "scatter",
         "x": [
          "TPCH_SF1",
          "TPCH_SF10",
          "TPCH_SF100",
          "TPCH_SF1000"
         ],
         "xaxis": "x2",
         "y": [
          0.6273333333333333,
          1.0773333333333337,
          4.641666666666667,
          57.33633333333333
         ],
         "yaxis": "y2"
        },
        {
         "hovertemplate": "warehouse_size=S<br>query_name=Query18<br>Schema=%{x}<br>Average Time (seconds)=%{y}<extra></extra>",
         "legendgroup": "S",
         "line": {
          "color": "blue",
          "dash": "solid"
         },
         "marker": {
          "symbol": "diamond"
         },
         "mode": "lines+markers",
         "name": "S",
         "orientation": "v",
         "showlegend": false,
         "type": "scatter",
         "x": [
          "TPCH_SF1",
          "TPCH_SF10",
          "TPCH_SF100",
          "TPCH_SF1000"
         ],
         "xaxis": "x3",
         "y": [
          0.336,
          0.912,
          13.144666666666666,
          203.76066666666668
         ],
         "yaxis": "y3"
        },
        {
         "hovertemplate": "warehouse_size=M<br>query_name=Query1<br>Schema=%{x}<br>Average Time (seconds)=%{y}<extra></extra>",
         "legendgroup": "M",
         "line": {
          "color": "green",
          "dash": "solid"
         },
         "marker": {
          "symbol": "square"
         },
         "mode": "lines+markers",
         "name": "M",
         "orientation": "v",
         "showlegend": true,
         "type": "scatter",
         "x": [
          "TPCH_SF10",
          "TPCH_SF1",
          "TPCH_SF100",
          "TPCH_SF1000"
         ],
         "xaxis": "x",
         "y": [
          0.527,
          0.5576666666666666,
          3.2436666666666665,
          27.328999999999997
         ],
         "yaxis": "y"
        },
        {
         "hovertemplate": "warehouse_size=M<br>query_name=Query5<br>Schema=%{x}<br>Average Time (seconds)=%{y}<extra></extra>",
         "legendgroup": "M",
         "line": {
          "color": "green",
          "dash": "solid"
         },
         "marker": {
          "symbol": "square"
         },
         "mode": "lines+markers",
         "name": "M",
         "orientation": "v",
         "showlegend": false,
         "type": "scatter",
         "x": [
          "TPCH_SF1",
          "TPCH_SF10",
          "TPCH_SF100",
          "TPCH_SF1000"
         ],
         "xaxis": "x2",
         "y": [
          0.482,
          0.9403333333333334,
          3.004,
          25.491333333333333
         ],
         "yaxis": "y2"
        },
        {
         "hovertemplate": "warehouse_size=M<br>query_name=Query18<br>Schema=%{x}<br>Average Time (seconds)=%{y}<extra></extra>",
         "legendgroup": "M",
         "line": {
          "color": "green",
          "dash": "solid"
         },
         "marker": {
          "symbol": "square"
         },
         "mode": "lines+markers",
         "name": "M",
         "orientation": "v",
         "showlegend": false,
         "type": "scatter",
         "x": [
          "TPCH_SF1",
          "TPCH_SF10",
          "TPCH_SF100",
          "TPCH_SF1000"
         ],
         "xaxis": "x3",
         "y": [
          0.2686666666666666,
          0.6859999999999999,
          6.291666666666667,
          89.34266666666667
         ],
         "yaxis": "y3"
        },
        {
         "hovertemplate": "warehouse_size=L<br>query_name=Query1<br>Schema=%{x}<br>Average Time (seconds)=%{y}<extra></extra>",
         "legendgroup": "L",
         "line": {
          "color": "purple",
          "dash": "solid"
         },
         "marker": {
          "symbol": "x"
         },
         "mode": "lines+markers",
         "name": "L",
         "orientation": "v",
         "showlegend": true,
         "type": "scatter",
         "x": [
          "TPCH_SF10",
          "TPCH_SF1",
          "TPCH_SF100",
          "TPCH_SF1000"
         ],
         "xaxis": "x",
         "y": [
          0.3976666666666666,
          0.8486666666666666,
          1.8033333333333337,
          13.760333333333334
         ],
         "yaxis": "y"
        },
        {
         "hovertemplate": "warehouse_size=L<br>query_name=Query5<br>Schema=%{x}<br>Average Time (seconds)=%{y}<extra></extra>",
         "legendgroup": "L",
         "line": {
          "color": "purple",
          "dash": "solid"
         },
         "marker": {
          "symbol": "x"
         },
         "mode": "lines+markers",
         "name": "L",
         "orientation": "v",
         "showlegend": false,
         "type": "scatter",
         "x": [
          "TPCH_SF1",
          "TPCH_SF10",
          "TPCH_SF100",
          "TPCH_SF1000"
         ],
         "xaxis": "x2",
         "y": [
          0.5446666666666666,
          0.9006666666666666,
          1.9766666666666663,
          13.26
         ],
         "yaxis": "y2"
        },
        {
         "hovertemplate": "warehouse_size=L<br>query_name=Query18<br>Schema=%{x}<br>Average Time (seconds)=%{y}<extra></extra>",
         "legendgroup": "L",
         "line": {
          "color": "purple",
          "dash": "solid"
         },
         "marker": {
          "symbol": "x"
         },
         "mode": "lines+markers",
         "name": "L",
         "orientation": "v",
         "showlegend": false,
         "type": "scatter",
         "x": [
          "TPCH_SF1",
          "TPCH_SF10",
          "TPCH_SF100",
          "TPCH_SF1000"
         ],
         "xaxis": "x3",
         "y": [
          0.2543333333333333,
          0.5713333333333334,
          4.272333333333333,
          41.346
         ],
         "yaxis": "y3"
        }
       ],
       "layout": {
        "annotations": [
         {
          "font": {},
          "showarrow": false,
          "text": "Query1",
          "x": 0.15999999999999998,
          "xanchor": "center",
          "xref": "paper",
          "y": 1,
          "yanchor": "bottom",
          "yref": "paper"
         },
         {
          "font": {},
          "showarrow": false,
          "text": "Query5",
          "x": 0.49999999999999994,
          "xanchor": "center",
          "xref": "paper",
          "y": 1,
          "yanchor": "bottom",
          "yref": "paper"
         },
         {
          "font": {},
          "showarrow": false,
          "text": "Query18",
          "x": 0.8399999999999999,
          "xanchor": "center",
          "xref": "paper",
          "y": 1,
          "yanchor": "bottom",
          "yref": "paper"
         }
        ],
        "legend": {
         "title": {
          "text": "Warehouse Size"
         },
         "tracegroupgap": 0
        },
        "margin": {
         "t": 60
        },
        "template": {
         "data": {
          "bar": [
           {
            "error_x": {
             "color": "#2a3f5f"
            },
            "error_y": {
             "color": "#2a3f5f"
            },
            "marker": {
             "line": {
              "color": "#E5ECF6",
              "width": 0.5
             },
             "pattern": {
              "fillmode": "overlay",
              "size": 10,
              "solidity": 0.2
             }
            },
            "type": "bar"
           }
          ],
          "barpolar": [
           {
            "marker": {
             "line": {
              "color": "#E5ECF6",
              "width": 0.5
             },
             "pattern": {
              "fillmode": "overlay",
              "size": 10,
              "solidity": 0.2
             }
            },
            "type": "barpolar"
           }
          ],
          "carpet": [
           {
            "aaxis": {
             "endlinecolor": "#2a3f5f",
             "gridcolor": "white",
             "linecolor": "white",
             "minorgridcolor": "white",
             "startlinecolor": "#2a3f5f"
            },
            "baxis": {
             "endlinecolor": "#2a3f5f",
             "gridcolor": "white",
             "linecolor": "white",
             "minorgridcolor": "white",
             "startlinecolor": "#2a3f5f"
            },
            "type": "carpet"
           }
          ],
          "choropleth": [
           {
            "colorbar": {
             "outlinewidth": 0,
             "ticks": ""
            },
            "type": "choropleth"
           }
          ],
          "contour": [
           {
            "colorbar": {
             "outlinewidth": 0,
             "ticks": ""
            },
            "colorscale": [
             [
              0,
              "#0d0887"
             ],
             [
              0.1111111111111111,
              "#46039f"
             ],
             [
              0.2222222222222222,
              "#7201a8"
             ],
             [
              0.3333333333333333,
              "#9c179e"
             ],
             [
              0.4444444444444444,
              "#bd3786"
             ],
             [
              0.5555555555555556,
              "#d8576b"
             ],
             [
              0.6666666666666666,
              "#ed7953"
             ],
             [
              0.7777777777777778,
              "#fb9f3a"
             ],
             [
              0.8888888888888888,
              "#fdca26"
             ],
             [
              1,
              "#f0f921"
             ]
            ],
            "type": "contour"
           }
          ],
          "contourcarpet": [
           {
            "colorbar": {
             "outlinewidth": 0,
             "ticks": ""
            },
            "type": "contourcarpet"
           }
          ],
          "heatmap": [
           {
            "colorbar": {
             "outlinewidth": 0,
             "ticks": ""
            },
            "colorscale": [
             [
              0,
              "#0d0887"
             ],
             [
              0.1111111111111111,
              "#46039f"
             ],
             [
              0.2222222222222222,
              "#7201a8"
             ],
             [
              0.3333333333333333,
              "#9c179e"
             ],
             [
              0.4444444444444444,
              "#bd3786"
             ],
             [
              0.5555555555555556,
              "#d8576b"
             ],
             [
              0.6666666666666666,
              "#ed7953"
             ],
             [
              0.7777777777777778,
              "#fb9f3a"
             ],
             [
              0.8888888888888888,
              "#fdca26"
             ],
             [
              1,
              "#f0f921"
             ]
            ],
            "type": "heatmap"
           }
          ],
          "heatmapgl": [
           {
            "colorbar": {
             "outlinewidth": 0,
             "ticks": ""
            },
            "colorscale": [
             [
              0,
              "#0d0887"
             ],
             [
              0.1111111111111111,
              "#46039f"
             ],
             [
              0.2222222222222222,
              "#7201a8"
             ],
             [
              0.3333333333333333,
              "#9c179e"
             ],
             [
              0.4444444444444444,
              "#bd3786"
             ],
             [
              0.5555555555555556,
              "#d8576b"
             ],
             [
              0.6666666666666666,
              "#ed7953"
             ],
             [
              0.7777777777777778,
              "#fb9f3a"
             ],
             [
              0.8888888888888888,
              "#fdca26"
             ],
             [
              1,
              "#f0f921"
             ]
            ],
            "type": "heatmapgl"
           }
          ],
          "histogram": [
           {
            "marker": {
             "pattern": {
              "fillmode": "overlay",
              "size": 10,
              "solidity": 0.2
             }
            },
            "type": "histogram"
           }
          ],
          "histogram2d": [
           {
            "colorbar": {
             "outlinewidth": 0,
             "ticks": ""
            },
            "colorscale": [
             [
              0,
              "#0d0887"
             ],
             [
              0.1111111111111111,
              "#46039f"
             ],
             [
              0.2222222222222222,
              "#7201a8"
             ],
             [
              0.3333333333333333,
              "#9c179e"
             ],
             [
              0.4444444444444444,
              "#bd3786"
             ],
             [
              0.5555555555555556,
              "#d8576b"
             ],
             [
              0.6666666666666666,
              "#ed7953"
             ],
             [
              0.7777777777777778,
              "#fb9f3a"
             ],
             [
              0.8888888888888888,
              "#fdca26"
             ],
             [
              1,
              "#f0f921"
             ]
            ],
            "type": "histogram2d"
           }
          ],
          "histogram2dcontour": [
           {
            "colorbar": {
             "outlinewidth": 0,
             "ticks": ""
            },
            "colorscale": [
             [
              0,
              "#0d0887"
             ],
             [
              0.1111111111111111,
              "#46039f"
             ],
             [
              0.2222222222222222,
              "#7201a8"
             ],
             [
              0.3333333333333333,
              "#9c179e"
             ],
             [
              0.4444444444444444,
              "#bd3786"
             ],
             [
              0.5555555555555556,
              "#d8576b"
             ],
             [
              0.6666666666666666,
              "#ed7953"
             ],
             [
              0.7777777777777778,
              "#fb9f3a"
             ],
             [
              0.8888888888888888,
              "#fdca26"
             ],
             [
              1,
              "#f0f921"
             ]
            ],
            "type": "histogram2dcontour"
           }
          ],
          "mesh3d": [
           {
            "colorbar": {
             "outlinewidth": 0,
             "ticks": ""
            },
            "type": "mesh3d"
           }
          ],
          "parcoords": [
           {
            "line": {
             "colorbar": {
              "outlinewidth": 0,
              "ticks": ""
             }
            },
            "type": "parcoords"
           }
          ],
          "pie": [
           {
            "automargin": true,
            "type": "pie"
           }
          ],
          "scatter": [
           {
            "fillpattern": {
             "fillmode": "overlay",
             "size": 10,
             "solidity": 0.2
            },
            "type": "scatter"
           }
          ],
          "scatter3d": [
           {
            "line": {
             "colorbar": {
              "outlinewidth": 0,
              "ticks": ""
             }
            },
            "marker": {
             "colorbar": {
              "outlinewidth": 0,
              "ticks": ""
             }
            },
            "type": "scatter3d"
           }
          ],
          "scattercarpet": [
           {
            "marker": {
             "colorbar": {
              "outlinewidth": 0,
              "ticks": ""
             }
            },
            "type": "scattercarpet"
           }
          ],
          "scattergeo": [
           {
            "marker": {
             "colorbar": {
              "outlinewidth": 0,
              "ticks": ""
             }
            },
            "type": "scattergeo"
           }
          ],
          "scattergl": [
           {
            "marker": {
             "colorbar": {
              "outlinewidth": 0,
              "ticks": ""
             }
            },
            "type": "scattergl"
           }
          ],
          "scattermapbox": [
           {
            "marker": {
             "colorbar": {
              "outlinewidth": 0,
              "ticks": ""
             }
            },
            "type": "scattermapbox"
           }
          ],
          "scatterpolar": [
           {
            "marker": {
             "colorbar": {
              "outlinewidth": 0,
              "ticks": ""
             }
            },
            "type": "scatterpolar"
           }
          ],
          "scatterpolargl": [
           {
            "marker": {
             "colorbar": {
              "outlinewidth": 0,
              "ticks": ""
             }
            },
            "type": "scatterpolargl"
           }
          ],
          "scatterternary": [
           {
            "marker": {
             "colorbar": {
              "outlinewidth": 0,
              "ticks": ""
             }
            },
            "type": "scatterternary"
           }
          ],
          "surface": [
           {
            "colorbar": {
             "outlinewidth": 0,
             "ticks": ""
            },
            "colorscale": [
             [
              0,
              "#0d0887"
             ],
             [
              0.1111111111111111,
              "#46039f"
             ],
             [
              0.2222222222222222,
              "#7201a8"
             ],
             [
              0.3333333333333333,
              "#9c179e"
             ],
             [
              0.4444444444444444,
              "#bd3786"
             ],
             [
              0.5555555555555556,
              "#d8576b"
             ],
             [
              0.6666666666666666,
              "#ed7953"
             ],
             [
              0.7777777777777778,
              "#fb9f3a"
             ],
             [
              0.8888888888888888,
              "#fdca26"
             ],
             [
              1,
              "#f0f921"
             ]
            ],
            "type": "surface"
           }
          ],
          "table": [
           {
            "cells": {
             "fill": {
              "color": "#EBF0F8"
             },
             "line": {
              "color": "white"
             }
            },
            "header": {
             "fill": {
              "color": "#C8D4E3"
             },
             "line": {
              "color": "white"
             }
            },
            "type": "table"
           }
          ]
         },
         "layout": {
          "annotationdefaults": {
           "arrowcolor": "#2a3f5f",
           "arrowhead": 0,
           "arrowwidth": 1
          },
          "autotypenumbers": "strict",
          "coloraxis": {
           "colorbar": {
            "outlinewidth": 0,
            "ticks": ""
           }
          },
          "colorscale": {
           "diverging": [
            [
             0,
             "#8e0152"
            ],
            [
             0.1,
             "#c51b7d"
            ],
            [
             0.2,
             "#de77ae"
            ],
            [
             0.3,
             "#f1b6da"
            ],
            [
             0.4,
             "#fde0ef"
            ],
            [
             0.5,
             "#f7f7f7"
            ],
            [
             0.6,
             "#e6f5d0"
            ],
            [
             0.7,
             "#b8e186"
            ],
            [
             0.8,
             "#7fbc41"
            ],
            [
             0.9,
             "#4d9221"
            ],
            [
             1,
             "#276419"
            ]
           ],
           "sequential": [
            [
             0,
             "#0d0887"
            ],
            [
             0.1111111111111111,
             "#46039f"
            ],
            [
             0.2222222222222222,
             "#7201a8"
            ],
            [
             0.3333333333333333,
             "#9c179e"
            ],
            [
             0.4444444444444444,
             "#bd3786"
            ],
            [
             0.5555555555555556,
             "#d8576b"
            ],
            [
             0.6666666666666666,
             "#ed7953"
            ],
            [
             0.7777777777777778,
             "#fb9f3a"
            ],
            [
             0.8888888888888888,
             "#fdca26"
            ],
            [
             1,
             "#f0f921"
            ]
           ],
           "sequentialminus": [
            [
             0,
             "#0d0887"
            ],
            [
             0.1111111111111111,
             "#46039f"
            ],
            [
             0.2222222222222222,
             "#7201a8"
            ],
            [
             0.3333333333333333,
             "#9c179e"
            ],
            [
             0.4444444444444444,
             "#bd3786"
            ],
            [
             0.5555555555555556,
             "#d8576b"
            ],
            [
             0.6666666666666666,
             "#ed7953"
            ],
            [
             0.7777777777777778,
             "#fb9f3a"
            ],
            [
             0.8888888888888888,
             "#fdca26"
            ],
            [
             1,
             "#f0f921"
            ]
           ]
          },
          "colorway": [
           "#636efa",
           "#EF553B",
           "#00cc96",
           "#ab63fa",
           "#FFA15A",
           "#19d3f3",
           "#FF6692",
           "#B6E880",
           "#FF97FF",
           "#FECB52"
          ],
          "font": {
           "color": "#2a3f5f"
          },
          "geo": {
           "bgcolor": "white",
           "lakecolor": "white",
           "landcolor": "#E5ECF6",
           "showlakes": true,
           "showland": true,
           "subunitcolor": "white"
          },
          "hoverlabel": {
           "align": "left"
          },
          "hovermode": "closest",
          "mapbox": {
           "style": "light"
          },
          "paper_bgcolor": "white",
          "plot_bgcolor": "#E5ECF6",
          "polar": {
           "angularaxis": {
            "gridcolor": "white",
            "linecolor": "white",
            "ticks": ""
           },
           "bgcolor": "#E5ECF6",
           "radialaxis": {
            "gridcolor": "white",
            "linecolor": "white",
            "ticks": ""
           }
          },
          "scene": {
           "xaxis": {
            "backgroundcolor": "#E5ECF6",
            "gridcolor": "white",
            "gridwidth": 2,
            "linecolor": "white",
            "showbackground": true,
            "ticks": "",
            "zerolinecolor": "white"
           },
           "yaxis": {
            "backgroundcolor": "#E5ECF6",
            "gridcolor": "white",
            "gridwidth": 2,
            "linecolor": "white",
            "showbackground": true,
            "ticks": "",
            "zerolinecolor": "white"
           },
           "zaxis": {
            "backgroundcolor": "#E5ECF6",
            "gridcolor": "white",
            "gridwidth": 2,
            "linecolor": "white",
            "showbackground": true,
            "ticks": "",
            "zerolinecolor": "white"
           }
          },
          "shapedefaults": {
           "line": {
            "color": "#2a3f5f"
           }
          },
          "ternary": {
           "aaxis": {
            "gridcolor": "white",
            "linecolor": "white",
            "ticks": ""
           },
           "baxis": {
            "gridcolor": "white",
            "linecolor": "white",
            "ticks": ""
           },
           "bgcolor": "#E5ECF6",
           "caxis": {
            "gridcolor": "white",
            "linecolor": "white",
            "ticks": ""
           }
          },
          "title": {
           "x": 0.05
          },
          "xaxis": {
           "automargin": true,
           "gridcolor": "white",
           "linecolor": "white",
           "ticks": "",
           "title": {
            "standoff": 15
           },
           "zerolinecolor": "white",
           "zerolinewidth": 2
          },
          "yaxis": {
           "automargin": true,
           "gridcolor": "white",
           "linecolor": "white",
           "ticks": "",
           "title": {
            "standoff": 15
           },
           "zerolinecolor": "white",
           "zerolinewidth": 2
          }
         }
        },
        "title": {
         "text": "Average Query Execution Times by Schema and Warehouse Size for each Query"
        },
        "xaxis": {
         "anchor": "y",
         "domain": [
          0,
          0.31999999999999995
         ],
         "title": {
          "text": "Schema"
         }
        },
        "xaxis2": {
         "anchor": "y2",
         "domain": [
          0.33999999999999997,
          0.6599999999999999
         ],
         "matches": "x",
         "title": {
          "text": "Schema"
         }
        },
        "xaxis3": {
         "anchor": "y3",
         "domain": [
          0.6799999999999999,
          0.9999999999999999
         ],
         "matches": "x",
         "title": {
          "text": "Schema"
         }
        },
        "yaxis": {
         "anchor": "x",
         "autorange": false,
         "domain": [
          0,
          1
         ],
         "range": [
          -1,
          3
         ],
         "tickmode": "array",
         "tickvals": [
          0.1,
          1,
          10,
          100,
          1000
         ],
         "title": {
          "text": "Average Time (seconds)"
         },
         "type": "log"
        },
        "yaxis2": {
         "anchor": "x2",
         "autorange": false,
         "domain": [
          0,
          1
         ],
         "matches": "y",
         "range": [
          -1,
          3
         ],
         "showticklabels": false,
         "tickmode": "array",
         "tickvals": [
          0.1,
          1,
          10,
          100,
          1000
         ],
         "type": "log"
        },
        "yaxis3": {
         "anchor": "x3",
         "autorange": false,
         "domain": [
          0,
          1
         ],
         "matches": "y",
         "range": [
          -1,
          3
         ],
         "showticklabels": false,
         "tickmode": "array",
         "tickvals": [
          0.1,
          1,
          10,
          100,
          1000
         ],
         "type": "log"
        }
       }
      }
     },
     "metadata": {},
     "output_type": "display_data"
    }
   ],
   "source": [
    "color_map = {\n",
    "    'XS': 'red',  \n",
    "    'S': 'blue',\n",
    "    'M': 'green',\n",
    "    'L': 'purple'\n",
    "}\n",
    "\n",
    "query_order = ['Query1', 'Query5', 'Query18'] \n",
    "\n",
    "fig = px.line(average_times_df, \n",
    "              x='schema_name', \n",
    "              y='average_time_seconds', \n",
    "              color='warehouse_size', \n",
    "              symbol=\"warehouse_size\",\n",
    "              color_discrete_map=color_map, \n",
    "              category_orders={\n",
    "                  \"warehouse_size\": warehouse_sizes, \n",
    "                  \"query_name\": query_order  \n",
    "              },\n",
    "              facet_col=\"query_name\", \n",
    "              labels={\n",
    "                  \"schema_name\": \"Schema\",\n",
    "                  \"average_time_seconds\": \"Average Time (seconds)\"\n",
    "              })\n",
    "\n",
    "fig.update_layout(\n",
    "    legend_title=\"Warehouse Size\",\n",
    "    title=\"Average Query Execution Times by Schema and Warehouse Size for each Query\",\n",
    "    xaxis_title=\"Schema\"\n",
    ")\n",
    "\n",
    "fig.update_yaxes(type='log', \n",
    "                 tickmode='array',\n",
    "                 tickvals=[0.1, 1, 10, 100, 1000],\n",
    "                 autorange=False,\n",
    "                 range=[-1, 3] \n",
    "                )\n",
    "\n",
    "fig.for_each_annotation(lambda a: a.update(text=a.text.split(\"=\")[1]))\n",
    "\n",
    "fig.show()"
   ]
  }
 ],
 "metadata": {
  "kernelspec": {
   "display_name": "Python 3",
   "language": "python",
   "name": "python3"
  },
  "language_info": {
   "codemirror_mode": {
    "name": "ipython",
    "version": 3
   },
   "file_extension": ".py",
   "mimetype": "text/x-python",
   "name": "python",
   "nbconvert_exporter": "python",
   "pygments_lexer": "ipython3",
   "version": "3.12.6"
  }
 },
 "nbformat": 4,
 "nbformat_minor": 2
}
