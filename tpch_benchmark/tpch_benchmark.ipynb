{
 "cells": [
  {
   "cell_type": "markdown",
   "metadata": {},
   "source": [
    "# Performance Experiments Using TPC-H"
   ]
  },
  {
   "cell_type": "markdown",
   "metadata": {},
   "source": [
    "## Imports"
   ]
  },
  {
   "cell_type": "code",
   "execution_count": 6,
   "metadata": {},
   "outputs": [],
   "source": [
    "import snowflake.connector\n",
    "import pandas as pd\n",
    "import time\n",
    "import os \n",
    "import plotly.express as px"
   ]
  },
  {
   "cell_type": "markdown",
   "metadata": {},
   "source": [
    "## Setting up the connection"
   ]
  },
  {
   "cell_type": "markdown",
   "metadata": {},
   "source": [
    "**Important: To run this, you must use your own credentials for ``“user”``, ``“password”``, and ``“account”``.**\n",
    "\n",
    "1. **Set Up Your Password:**\n",
    "\n",
    "    Create a ``.env`` file in the root directory and specify your password as follows:\n",
    "\n",
    "    ``PASSWORD=YOUR_PASSWORD_HERE``\n",
    "    \n",
    "    For example: \n",
    "    \n",
    "    ``PASSWORD=snowflake123``\n",
    "\n",
    "2.\t**Configure User and Account:**\n",
    "\n",
    "    Update the **``“user”``** and **``“account”``** fields in the configuration section two cells below. Typically, the **``“account”``** I belive should be the same."
   ]
  },
  {
   "cell_type": "code",
   "execution_count": 7,
   "metadata": {},
   "outputs": [],
   "source": [
    "PASSWORD = os.getenv(\"PASSWORD\")"
   ]
  },
  {
   "cell_type": "code",
   "execution_count": 8,
   "metadata": {},
   "outputs": [],
   "source": [
    "conn = snowflake.connector.connect(\n",
    "    user='COYOTE',             \n",
    "    password=PASSWORD,    \n",
    "    account='sfedu02-gyb58550',\n",
    "    schema='TPCH_SF1',    \n",
    "    warehouse='COYOTE_WH_XS',     \n",
    "    database='SNOWFLAKE_SAMPLE_DATA'\n",
    ")"
   ]
  },
  {
   "cell_type": "markdown",
   "metadata": {},
   "source": [
    "## Warehouses and caching"
   ]
  },
  {
   "cell_type": "code",
   "execution_count": 5,
   "metadata": {},
   "outputs": [
    {
     "name": "stdout",
     "output_type": "stream",
     "text": [
      "Created or replaced warehouse: COYOTE_WH_XS\n",
      "Created or replaced warehouse: COYOTE_WH_S\n",
      "Created or replaced warehouse: COYOTE_WH_M\n",
      "Created or replaced warehouse: COYOTE_WH_L\n"
     ]
    }
   ],
   "source": [
    "warehouse_sizes = ['XS', 'S', 'M', 'L']\n",
    "warehouse_real_sizes = ['XSMALL', 'SMALL', 'MEDIUM', 'LARGE']\n",
    "schemas = ['TPCH_SF1', 'TPCH_SF10', 'TPCH_SF100', 'TPCH_SF1000']\n",
    "warehouse_names = [f\"COYOTE_WH_{size}\" for size in warehouse_sizes]\n",
    "\n",
    "for warehouse_name, size in zip(warehouse_names, warehouse_real_sizes):\n",
    "    with conn.cursor() as cursor:\n",
    "        cursor.execute(f\"\"\"\n",
    "        CREATE OR REPLACE WAREHOUSE {warehouse_name}\n",
    "        WAREHOUSE_SIZE = '{size}',\n",
    "        AUTO_SUSPEND = 10;\n",
    "        \"\"\")\n",
    "        print(f\"Created or replaced warehouse: {warehouse_name}\")"
   ]
  },
  {
   "cell_type": "code",
   "execution_count": 6,
   "metadata": {},
   "outputs": [
    {
     "name": "stdout",
     "output_type": "stream",
     "text": [
      "Caching has been turned off for the session.\n"
     ]
    }
   ],
   "source": [
    "with conn.cursor() as cursor:\n",
    "    cursor.execute(\"ALTER SESSION SET USE_CACHED_RESULT = FALSE;\")\n",
    "print(\"Caching has been turned off for the session.\")"
   ]
  },
  {
   "cell_type": "markdown",
   "metadata": {},
   "source": [
    "## Queries (taken from  https://docs.snowflake.com/en/user-guide/sample-data-tpch -> https://www.tpc.org/tpc_documents_current_versions/pdf/tpc-h_v2.17.1.pdf)"
   ]
  },
  {
   "cell_type": "code",
   "execution_count": 7,
   "metadata": {},
   "outputs": [],
   "source": [
    "queries = [\n",
    "    {\n",
    "        'name': 'Query1',\n",
    "        'sql': \"\"\"\n",
    "        SELECT\n",
    "            l_returnflag,\n",
    "            l_linestatus,\n",
    "            sum(l_quantity) as sum_qty,\n",
    "            sum(l_extendedprice) as sum_base_price,\n",
    "            sum(l_extendedprice * (1-l_discount)) as sum_disc_price,\n",
    "            sum(l_extendedprice * (1-l_discount) * (1+l_tax)) as sum_charge,\n",
    "            avg(l_quantity) as avg_qty,\n",
    "            avg(l_extendedprice) as avg_price,\n",
    "            avg(l_discount) as avg_disc,\n",
    "            count(*) as count_order\n",
    "        FROM\n",
    "            lineitem\n",
    "        WHERE\n",
    "            l_shipdate <= dateadd(day, -90, to_date('1998-12-01'))\n",
    "        GROUP BY\n",
    "            l_returnflag,\n",
    "            l_linestatus\n",
    "        ORDER BY\n",
    "            l_returnflag,\n",
    "            l_linestatus;\n",
    "        \"\"\"\n",
    "    },\n",
    "    {\n",
    "        'name': 'Query5',\n",
    "        'sql': \"\"\"\n",
    "        SELECT\n",
    "            n_name,\n",
    "            SUM(l_extendedprice * (1 - l_discount)) AS revenue\n",
    "        FROM\n",
    "            customer,\n",
    "            orders,\n",
    "            lineitem,\n",
    "            supplier,\n",
    "            nation,\n",
    "            region\n",
    "        WHERE\n",
    "            c_custkey = o_custkey\n",
    "            AND l_orderkey = o_orderkey\n",
    "            AND l_suppkey = s_suppkey\n",
    "            AND c_nationkey = s_nationkey\n",
    "            AND s_nationkey = n_nationkey\n",
    "            AND n_regionkey = r_regionkey\n",
    "            AND r_name = 'ASIA'\n",
    "            AND o_orderdate >= DATE '1994-01-01'\n",
    "            AND o_orderdate < DATEADD(year, 1, '1994-01-01')\n",
    "        GROUP BY\n",
    "            n_name\n",
    "        ORDER BY\n",
    "            revenue DESC;\n",
    "        \"\"\"\n",
    "    },\n",
    "    {\n",
    "        'name': 'Query18',\n",
    "        'sql': \"\"\"\n",
    "        SELECT\n",
    "            c_name,\n",
    "            c_custkey,\n",
    "            o_orderkey,\n",
    "            o_orderdate,\n",
    "            o_totalprice,\n",
    "            SUM(l_quantity)\n",
    "        FROM\n",
    "            customer,\n",
    "            orders,\n",
    "            lineitem\n",
    "        WHERE\n",
    "            o_orderkey IN (\n",
    "                SELECT\n",
    "                    l_orderkey\n",
    "                FROM\n",
    "                    lineitem\n",
    "                GROUP BY\n",
    "                    l_orderkey\n",
    "                HAVING\n",
    "                    SUM(l_quantity) > 313\n",
    "            )\n",
    "            AND c_custkey = o_custkey\n",
    "            AND o_orderkey = l_orderkey\n",
    "        GROUP BY\n",
    "            c_name,\n",
    "            c_custkey,\n",
    "            o_orderkey,\n",
    "            o_orderdate,\n",
    "            o_totalprice\n",
    "        ORDER BY\n",
    "            o_totalprice DESC,\n",
    "            o_orderdate;\n",
    "        \"\"\"\n",
    "    }\n",
    "]"
   ]
  },
  {
   "cell_type": "markdown",
   "metadata": {},
   "source": [
    "## Experiments"
   ]
  },
  {
   "cell_type": "markdown",
   "metadata": {},
   "source": [
    "Takes around ~1 hour to run all the combinations. \n",
    "\n",
    "I am running each query 3 times."
   ]
  },
  {
   "cell_type": "code",
   "execution_count": 7,
   "metadata": {},
   "outputs": [
    {
     "name": "stdout",
     "output_type": "stream",
     "text": [
      "Switched to warehouse: XS\n",
      "Switched to schema: TPCH_SF1\n",
      "Executed Query1, Run 1, Query ID: 01b88fde-0004-38e7-0000-137f00577f9a\n",
      "Executed Query1, Run 2, Query ID: 01b88fde-0004-3924-0000-137f0057860a\n",
      "Executed Query1, Run 3, Query ID: 01b88fdf-0004-38e7-0000-137f00577f9e\n",
      "Executed Query5, Run 1, Query ID: 01b88fdf-0004-3924-0000-137f0057860e\n",
      "Executed Query5, Run 2, Query ID: 01b88fdf-0004-38e7-0000-137f00577fa2\n",
      "Executed Query5, Run 3, Query ID: 01b88fdf-0004-3924-0000-137f00578612\n",
      "Executed Query18, Run 1, Query ID: 01b88fdf-0004-38e7-0000-137f00577fa6\n",
      "Executed Query18, Run 2, Query ID: 01b88fdf-0004-3924-0000-137f00578616\n",
      "Executed Query18, Run 3, Query ID: 01b88fdf-0004-38e7-0000-137f00577faa\n",
      "Switched to schema: TPCH_SF10\n",
      "Executed Query1, Run 1, Query ID: 01b88fdf-0004-38e7-0000-137f00577fae\n",
      "Executed Query1, Run 2, Query ID: 01b88fdf-0004-3924-0000-137f0057861e\n",
      "Executed Query1, Run 3, Query ID: 01b88fdf-0004-38e7-0000-137f00577fb2\n",
      "Executed Query5, Run 1, Query ID: 01b88fdf-0004-3924-0000-137f00578622\n",
      "Executed Query5, Run 2, Query ID: 01b88fdf-0004-38e7-0000-137f00577fb6\n",
      "Executed Query5, Run 3, Query ID: 01b88fdf-0004-3924-0000-137f00578626\n",
      "Executed Query18, Run 1, Query ID: 01b88fdf-0004-38e7-0000-137f00577fba\n",
      "Executed Query18, Run 2, Query ID: 01b88fdf-0004-38e7-0000-137f00577fbe\n",
      "Executed Query18, Run 3, Query ID: 01b88fdf-0004-3924-0000-137f0057862a\n",
      "Switched to schema: TPCH_SF100\n",
      "Executed Query1, Run 1, Query ID: 01b88fdf-0004-3924-0000-137f0057862e\n",
      "Executed Query1, Run 2, Query ID: 01b88fdf-0004-38e7-0000-137f00577fc6\n",
      "Executed Query1, Run 3, Query ID: 01b88fdf-0004-3924-0000-137f00578632\n",
      "Executed Query5, Run 1, Query ID: 01b88fdf-0004-3924-0000-137f00578636\n",
      "Executed Query5, Run 2, Query ID: 01b88fe0-0004-38e7-0000-137f00577fca\n",
      "Executed Query5, Run 3, Query ID: 01b88fe0-0004-3924-0000-137f0057863a\n",
      "Executed Query18, Run 1, Query ID: 01b88fe0-0004-3924-0000-137f0057863e\n",
      "Executed Query18, Run 2, Query ID: 01b88fe0-0004-38e7-0000-137f00577fce\n",
      "Executed Query18, Run 3, Query ID: 01b88fe1-0004-38e7-0000-137f00577fd2\n",
      "Switched to schema: TPCH_SF1000\n",
      "Executed Query1, Run 1, Query ID: 01b88fe1-0004-38e7-0000-137f00577fda\n",
      "Executed Query1, Run 2, Query ID: 01b88fe3-0004-3924-0000-137f00578646\n",
      "Executed Query1, Run 3, Query ID: 01b88fe5-0004-3924-0000-137f0057864a\n",
      "Executed Query5, Run 1, Query ID: 01b88fe7-0004-3924-0000-137f0057864e\n",
      "Executed Query5, Run 2, Query ID: 01b88fe8-0004-3924-0000-137f00578652\n",
      "Executed Query5, Run 3, Query ID: 01b88fea-0004-3924-0000-137f00578656\n",
      "Executed Query18, Run 1, Query ID: 01b88fec-0004-38e7-0000-137f005790be\n",
      "Executed Query18, Run 2, Query ID: 01b88ff3-0004-38e7-0000-137f00579112\n",
      "Executed Query18, Run 3, Query ID: 01b88ff9-0004-3924-0000-137f005787ae\n",
      "Switched to warehouse: S\n",
      "Switched to schema: TPCH_SF1\n",
      "Executed Query1, Run 1, Query ID: 01b88fff-0004-3924-0000-137f005787ea\n",
      "Executed Query1, Run 2, Query ID: 01b88fff-0004-38e7-0000-137f0057915a\n",
      "Executed Query1, Run 3, Query ID: 01b88fff-0004-3924-0000-137f005787ee\n",
      "Executed Query5, Run 1, Query ID: 01b88fff-0004-38e7-0000-137f0057915e\n",
      "Executed Query5, Run 2, Query ID: 01b88fff-0004-3924-0000-137f005787f2\n",
      "Executed Query5, Run 3, Query ID: 01b88fff-0004-38e7-0000-137f00579162\n",
      "Executed Query18, Run 1, Query ID: 01b88fff-0004-3924-0000-137f005787f6\n",
      "Executed Query18, Run 2, Query ID: 01b88fff-0004-38e7-0000-137f00579166\n",
      "Executed Query18, Run 3, Query ID: 01b88fff-0004-3924-0000-137f005787fa\n",
      "Switched to schema: TPCH_SF10\n",
      "Executed Query1, Run 1, Query ID: 01b88fff-0004-3924-0000-137f005787fe\n",
      "Executed Query1, Run 2, Query ID: 01b88fff-0004-38e7-0000-137f0057916e\n",
      "Executed Query1, Run 3, Query ID: 01b88fff-0004-3924-0000-137f00578802\n",
      "Executed Query5, Run 1, Query ID: 01b88fff-0004-38e7-0000-137f00579172\n",
      "Executed Query5, Run 2, Query ID: 01b89000-0004-3924-0000-137f00578806\n",
      "Executed Query5, Run 3, Query ID: 01b89000-0004-38e7-0000-137f00579176\n",
      "Executed Query18, Run 1, Query ID: 01b89000-0004-3924-0000-137f0057880a\n",
      "Executed Query18, Run 2, Query ID: 01b89000-0004-38e7-0000-137f0057917a\n",
      "Executed Query18, Run 3, Query ID: 01b89000-0004-3924-0000-137f00578812\n",
      "Switched to schema: TPCH_SF100\n",
      "Executed Query1, Run 1, Query ID: 01b89000-0004-3924-0000-137f00578816\n",
      "Executed Query1, Run 2, Query ID: 01b89000-0004-3924-0000-137f0057881a\n",
      "Executed Query1, Run 3, Query ID: 01b89000-0004-38e7-0000-137f00579182\n",
      "Executed Query5, Run 1, Query ID: 01b89000-0004-3924-0000-137f0057881e\n",
      "Executed Query5, Run 2, Query ID: 01b89000-0004-38e7-0000-137f005791a2\n",
      "Executed Query5, Run 3, Query ID: 01b89000-0004-3924-0000-137f00578836\n",
      "Executed Query18, Run 1, Query ID: 01b89000-0004-38e7-0000-137f005791a6\n",
      "Executed Query18, Run 2, Query ID: 01b89000-0004-38e7-0000-137f005791aa\n",
      "Executed Query18, Run 3, Query ID: 01b89001-0004-3924-0000-137f0057883a\n",
      "Switched to schema: TPCH_SF1000\n",
      "Executed Query1, Run 1, Query ID: 01b89001-0004-38e7-0000-137f005791ae\n",
      "Executed Query1, Run 2, Query ID: 01b89002-0004-3924-0000-137f00578842\n",
      "Executed Query1, Run 3, Query ID: 01b89003-0004-38e7-0000-137f005791b2\n",
      "Executed Query5, Run 1, Query ID: 01b89004-0004-3924-0000-137f00578846\n",
      "Executed Query5, Run 2, Query ID: 01b89005-0004-38e7-0000-137f005791b6\n",
      "Executed Query5, Run 3, Query ID: 01b89005-0004-3924-0000-137f0057884a\n",
      "Executed Query18, Run 1, Query ID: 01b89006-0004-38e7-0000-137f005791ba\n",
      "Executed Query18, Run 2, Query ID: 01b8900a-0004-3924-0000-137f0057884e\n",
      "Executed Query18, Run 3, Query ID: 01b8900d-0004-38e7-0000-137f005791be\n",
      "Switched to warehouse: M\n",
      "Switched to schema: TPCH_SF1\n",
      "Executed Query1, Run 1, Query ID: 01b89010-0004-38e7-0000-137f005791d6\n",
      "Executed Query1, Run 2, Query ID: 01b89010-0004-3924-0000-137f00578856\n",
      "Executed Query1, Run 3, Query ID: 01b89010-0004-38e7-0000-137f005791da\n",
      "Executed Query5, Run 1, Query ID: 01b89010-0004-3924-0000-137f0057885a\n",
      "Executed Query5, Run 2, Query ID: 01b89010-0004-38e7-0000-137f005791de\n",
      "Executed Query5, Run 3, Query ID: 01b89010-0004-3924-0000-137f0057885e\n",
      "Executed Query18, Run 1, Query ID: 01b89010-0004-38e7-0000-137f005791f2\n",
      "Executed Query18, Run 2, Query ID: 01b89010-0004-3924-0000-137f00578862\n",
      "Executed Query18, Run 3, Query ID: 01b89010-0004-38e7-0000-137f005791f6\n",
      "Switched to schema: TPCH_SF10\n",
      "Executed Query1, Run 1, Query ID: 01b89010-0004-3924-0000-137f0057886a\n",
      "Executed Query1, Run 2, Query ID: 01b89010-0004-38e7-0000-137f00579206\n",
      "Executed Query1, Run 3, Query ID: 01b89010-0004-3924-0000-137f0057886e\n",
      "Executed Query5, Run 1, Query ID: 01b89010-0004-38e7-0000-137f0057920a\n",
      "Executed Query5, Run 2, Query ID: 01b89011-0004-3924-0000-137f00578872\n",
      "Executed Query5, Run 3, Query ID: 01b89011-0004-38e7-0000-137f0057920e\n",
      "Executed Query18, Run 1, Query ID: 01b89011-0004-3924-0000-137f00578876\n",
      "Executed Query18, Run 2, Query ID: 01b89011-0004-38e7-0000-137f0057921e\n",
      "Executed Query18, Run 3, Query ID: 01b89011-0004-3924-0000-137f0057887a\n",
      "Switched to schema: TPCH_SF100\n",
      "Executed Query1, Run 1, Query ID: 01b89011-0004-3924-0000-137f0057887e\n",
      "Executed Query1, Run 2, Query ID: 01b89011-0004-38e7-0000-137f00579232\n",
      "Executed Query1, Run 3, Query ID: 01b89011-0004-3924-0000-137f00578882\n",
      "Executed Query5, Run 1, Query ID: 01b89011-0004-38e7-0000-137f00579236\n",
      "Executed Query5, Run 2, Query ID: 01b89011-0004-3924-0000-137f00578886\n",
      "Executed Query5, Run 3, Query ID: 01b89011-0004-38e7-0000-137f0057923a\n",
      "Executed Query18, Run 1, Query ID: 01b89011-0004-38e7-0000-137f0057923e\n",
      "Executed Query18, Run 2, Query ID: 01b89011-0004-38e7-0000-137f00579242\n",
      "Executed Query18, Run 3, Query ID: 01b89011-0004-38e7-0000-137f00579246\n",
      "Switched to schema: TPCH_SF1000\n",
      "Executed Query1, Run 1, Query ID: 01b89011-0004-38e7-0000-137f0057924e\n",
      "Executed Query1, Run 2, Query ID: 01b89012-0004-38e7-0000-137f00579252\n",
      "Executed Query1, Run 3, Query ID: 01b89012-0004-38e7-0000-137f0057925e\n",
      "Executed Query5, Run 1, Query ID: 01b89013-0004-38e7-0000-137f00579262\n",
      "Executed Query5, Run 2, Query ID: 01b89013-0004-38e7-0000-137f00579266\n",
      "Executed Query5, Run 3, Query ID: 01b89014-0004-38e7-0000-137f0057928a\n",
      "Executed Query18, Run 1, Query ID: 01b89014-0004-38e7-0000-137f0057928e\n",
      "Executed Query18, Run 2, Query ID: 01b89016-0004-38e7-0000-137f00579292\n",
      "Executed Query18, Run 3, Query ID: 01b89017-0004-38e7-0000-137f005792aa\n",
      "Switched to warehouse: L\n",
      "Switched to schema: TPCH_SF1\n",
      "Executed Query1, Run 1, Query ID: 01b89019-0004-38e7-0000-137f005792da\n",
      "Executed Query1, Run 2, Query ID: 01b89019-0004-38e7-0000-137f005792de\n",
      "Executed Query1, Run 3, Query ID: 01b89019-0004-38e7-0000-137f005792e2\n",
      "Executed Query5, Run 1, Query ID: 01b89019-0004-38e7-0000-137f005792e6\n",
      "Executed Query5, Run 2, Query ID: 01b89019-0004-38e7-0000-137f005792ea\n",
      "Executed Query5, Run 3, Query ID: 01b89019-0004-38e7-0000-137f005792ee\n",
      "Executed Query18, Run 1, Query ID: 01b89019-0004-38e7-0000-137f005792f2\n",
      "Executed Query18, Run 2, Query ID: 01b89019-0004-38e7-0000-137f005792f6\n",
      "Executed Query18, Run 3, Query ID: 01b89019-0004-38e7-0000-137f005792fa\n",
      "Switched to schema: TPCH_SF10\n",
      "Executed Query1, Run 1, Query ID: 01b89019-0004-38e7-0000-137f00579302\n",
      "Executed Query1, Run 2, Query ID: 01b89019-0004-38e7-0000-137f00579306\n",
      "Executed Query1, Run 3, Query ID: 01b89019-0004-38e7-0000-137f0057930a\n",
      "Executed Query5, Run 1, Query ID: 01b89019-0004-38e7-0000-137f0057930e\n",
      "Executed Query5, Run 2, Query ID: 01b89019-0004-38e7-0000-137f00579312\n",
      "Executed Query5, Run 3, Query ID: 01b89019-0004-38e7-0000-137f00579316\n",
      "Executed Query18, Run 1, Query ID: 01b89019-0004-38e7-0000-137f0057931a\n",
      "Executed Query18, Run 2, Query ID: 01b89019-0004-38e7-0000-137f0057931e\n",
      "Executed Query18, Run 3, Query ID: 01b89019-0004-38e7-0000-137f00579322\n",
      "Switched to schema: TPCH_SF100\n",
      "Executed Query1, Run 1, Query ID: 01b89019-0004-38e7-0000-137f0057932a\n",
      "Executed Query1, Run 2, Query ID: 01b89019-0004-38e7-0000-137f0057932e\n",
      "Executed Query1, Run 3, Query ID: 01b89019-0004-38e7-0000-137f00579332\n",
      "Executed Query5, Run 1, Query ID: 01b89019-0004-38e7-0000-137f00579336\n",
      "Executed Query5, Run 2, Query ID: 01b89019-0004-38e7-0000-137f0057933a\n",
      "Executed Query5, Run 3, Query ID: 01b89019-0004-38e7-0000-137f0057933e\n",
      "Executed Query18, Run 1, Query ID: 01b89019-0004-38e7-0000-137f00579342\n",
      "Executed Query18, Run 2, Query ID: 01b89019-0004-38e7-0000-137f00579346\n",
      "Executed Query18, Run 3, Query ID: 01b89019-0004-38e7-0000-137f0057934a\n",
      "Switched to schema: TPCH_SF1000\n",
      "Executed Query1, Run 1, Query ID: 01b89019-0004-38e7-0000-137f00579352\n",
      "Executed Query1, Run 2, Query ID: 01b8901a-0004-38e7-0000-137f00579356\n",
      "Executed Query1, Run 3, Query ID: 01b8901a-0004-38e7-0000-137f0057935a\n",
      "Executed Query5, Run 1, Query ID: 01b8901a-0004-38e7-0000-137f0057935e\n",
      "Executed Query5, Run 2, Query ID: 01b8901a-0004-38e7-0000-137f00579362\n",
      "Executed Query5, Run 3, Query ID: 01b8901a-0004-38e7-0000-137f00579366\n",
      "Executed Query18, Run 1, Query ID: 01b8901b-0004-38e7-0000-137f0057936a\n",
      "Executed Query18, Run 2, Query ID: 01b8901b-0004-38e7-0000-137f0057937a\n",
      "Executed Query18, Run 3, Query ID: 01b8901c-0004-38e7-0000-137f0057937e\n"
     ]
    }
   ],
   "source": [
    "results = []\n",
    "username = 'COYOTE'  \n",
    "# run_number = 1\n",
    "\n",
    "for warehouse_size in warehouse_sizes:\n",
    "    with conn.cursor() as cursor:\n",
    "        cursor.execute(f\"USE WAREHOUSE COYOTE_WH_{warehouse_size}\")\n",
    "    print(f\"Switched to warehouse: {warehouse_size}\")\n",
    "    \n",
    "    for schema_name in schemas:\n",
    "        with conn.cursor() as cursor:\n",
    "            cursor.execute(f\"USE SCHEMA {schema_name}\")\n",
    "        print(f\"Switched to schema: {schema_name}\")\n",
    "        \n",
    "        for query in queries:\n",
    "            query_name = query['name']\n",
    "            query_sql = query['sql']\n",
    "            \n",
    "            for run_number in range(1, 4):\n",
    "                with conn.cursor() as cursor:\n",
    "                    try:\n",
    "                        cursor.execute(query_sql)\n",
    "                        query_id = cursor.sfqid \n",
    "                        print(f\"Executed {query_name}, Run {run_number}, Query ID: {query_id}\")\n",
    "                        \n",
    "                        results.append({\n",
    "                            'query_id': query_id,\n",
    "                            'schema_name': schema_name,\n",
    "                            'warehouse_size': warehouse_size,\n",
    "                            'query_name': query_name,\n",
    "                            'run_number': run_number\n",
    "                        })\n",
    "                        \n",
    "                    except Exception as e:\n",
    "                        print(f\"Error executing {query_name}: {e}\")\n",
    "                    \n",
    "                    # time.sleep(2)"
   ]
  },
  {
   "cell_type": "markdown",
   "metadata": {},
   "source": [
    "## Retrieving and saving the results"
   ]
  },
  {
   "cell_type": "code",
   "execution_count": 8,
   "metadata": {},
   "outputs": [],
   "source": [
    "query_ids = [result['query_id'] for result in results]\n",
    "query_ids_str = ','.join([f\"'{qid}'\" for qid in query_ids])\n",
    "\n",
    "query_history_sql = f\"\"\"\n",
    "SELECT\n",
    "    query_id,\n",
    "    schema_name,\n",
    "    warehouse_name AS warehouse_size,\n",
    "    total_elapsed_time/1000 AS time_elapsed_in_seconds\n",
    "FROM\n",
    "    table(information_schema.query_history(RESULT_LIMIT => 1000))\n",
    "WHERE\n",
    "    user_name = '{username.upper()}'\n",
    "    AND execution_status = 'SUCCESS'\n",
    "    AND query_id IN ({query_ids_str})\n",
    "    ORDER BY start_time\n",
    "\"\"\"\n",
    "\n",
    "with conn.cursor() as cursor:\n",
    "    cursor.execute(query_history_sql)\n",
    "    df_history = pd.DataFrame.from_records(iter(cursor), columns=[x[0].lower() for x in cursor.description])\n",
    "\n",
    "df_history.columns = df_history.columns.str.lower()\n",
    "\n",
    "df_history['query_id'] = df_history['query_id'].str.upper()\n",
    "results_df = pd.DataFrame(results)\n",
    "results_df['query_id'] = results_df['query_id'].str.upper()\n",
    "\n",
    "final_df = pd.merge(results_df, df_history, on='query_id')\n",
    "\n",
    "for col in ['schema_name', 'warehouse_size']:\n",
    "    if f\"{col}_x\" in final_df.columns:\n",
    "        final_df.rename(columns={f\"{col}_x\": col}, inplace=True)\n",
    "    elif f\"{col}_results\" in final_df.columns:\n",
    "        final_df.rename(columns={f\"{col}_results\": col}, inplace=True)\n",
    "    elif f\"{col}_y\" in final_df.columns:\n",
    "        final_df.rename(columns={f\"{col}_y\": col}, inplace=True)\n",
    "    elif f\"{col}_history\" in final_df.columns:\n",
    "        final_df.rename(columns={f\"{col}_history\": col}, inplace=True)\n",
    "\n",
    "final_df = final_df[['query_id', 'query_name', 'schema_name', 'warehouse_size', 'run_number', \n",
    "                     'time_elapsed_in_seconds']]\n",
    "\n",
    "final_df.to_csv('../tpch_benchmark/query_execution_times.csv', index=False)"
   ]
  },
  {
   "cell_type": "code",
   "execution_count": 9,
   "metadata": {},
   "outputs": [],
   "source": [
    "grouped_df = final_df.groupby(['query_name', 'schema_name', 'warehouse_size'])\n",
    "\n",
    "average_times_df = grouped_df['time_elapsed_in_seconds'].mean().reset_index()\n",
    "\n",
    "average_times_df.rename(columns={'time_elapsed_in_seconds': 'average_time_seconds'}, inplace=True)\n",
    "\n",
    "average_times_df.sort_values(by='average_time_seconds', inplace=True)\n",
    "average_times_df.to_csv('../tpch_benchmark/average_query_execution_times.csv', index=False)"
   ]
  },
  {
   "cell_type": "code",
   "execution_count": 10,
   "metadata": {},
   "outputs": [
    {
     "data": {
      "text/html": [
       "<div>\n",
       "<style scoped>\n",
       "    .dataframe tbody tr th:only-of-type {\n",
       "        vertical-align: middle;\n",
       "    }\n",
       "\n",
       "    .dataframe tbody tr th {\n",
       "        vertical-align: top;\n",
       "    }\n",
       "\n",
       "    .dataframe thead th {\n",
       "        text-align: right;\n",
       "    }\n",
       "</style>\n",
       "<table border=\"1\" class=\"dataframe\">\n",
       "  <thead>\n",
       "    <tr style=\"text-align: right;\">\n",
       "      <th></th>\n",
       "      <th>query_name</th>\n",
       "      <th>schema_name</th>\n",
       "      <th>warehouse_size</th>\n",
       "      <th>average_time_seconds</th>\n",
       "    </tr>\n",
       "  </thead>\n",
       "  <tbody>\n",
       "    <tr>\n",
       "      <th>0</th>\n",
       "      <td>Query18</td>\n",
       "      <td>TPCH_SF1</td>\n",
       "      <td>L</td>\n",
       "      <td>0.267667</td>\n",
       "    </tr>\n",
       "    <tr>\n",
       "      <th>1</th>\n",
       "      <td>Query18</td>\n",
       "      <td>TPCH_SF1</td>\n",
       "      <td>M</td>\n",
       "      <td>0.295667</td>\n",
       "    </tr>\n",
       "    <tr>\n",
       "      <th>2</th>\n",
       "      <td>Query18</td>\n",
       "      <td>TPCH_SF1</td>\n",
       "      <td>S</td>\n",
       "      <td>0.309667</td>\n",
       "    </tr>\n",
       "    <tr>\n",
       "      <th>3</th>\n",
       "      <td>Query1</td>\n",
       "      <td>TPCH_SF1</td>\n",
       "      <td>L</td>\n",
       "      <td>0.364333</td>\n",
       "    </tr>\n",
       "    <tr>\n",
       "      <th>4</th>\n",
       "      <td>Query18</td>\n",
       "      <td>TPCH_SF1</td>\n",
       "      <td>XS</td>\n",
       "      <td>0.367333</td>\n",
       "    </tr>\n",
       "    <tr>\n",
       "      <th>5</th>\n",
       "      <td>Query1</td>\n",
       "      <td>TPCH_SF1</td>\n",
       "      <td>XS</td>\n",
       "      <td>0.390333</td>\n",
       "    </tr>\n",
       "    <tr>\n",
       "      <th>6</th>\n",
       "      <td>Query1</td>\n",
       "      <td>TPCH_SF10</td>\n",
       "      <td>L</td>\n",
       "      <td>0.402667</td>\n",
       "    </tr>\n",
       "    <tr>\n",
       "      <th>7</th>\n",
       "      <td>Query5</td>\n",
       "      <td>TPCH_SF1</td>\n",
       "      <td>L</td>\n",
       "      <td>0.448333</td>\n",
       "    </tr>\n",
       "    <tr>\n",
       "      <th>8</th>\n",
       "      <td>Query1</td>\n",
       "      <td>TPCH_SF1</td>\n",
       "      <td>S</td>\n",
       "      <td>0.456000</td>\n",
       "    </tr>\n",
       "    <tr>\n",
       "      <th>9</th>\n",
       "      <td>Query5</td>\n",
       "      <td>TPCH_SF1</td>\n",
       "      <td>XS</td>\n",
       "      <td>0.479000</td>\n",
       "    </tr>\n",
       "    <tr>\n",
       "      <th>10</th>\n",
       "      <td>Query5</td>\n",
       "      <td>TPCH_SF1</td>\n",
       "      <td>S</td>\n",
       "      <td>0.495333</td>\n",
       "    </tr>\n",
       "    <tr>\n",
       "      <th>11</th>\n",
       "      <td>Query1</td>\n",
       "      <td>TPCH_SF10</td>\n",
       "      <td>M</td>\n",
       "      <td>0.497667</td>\n",
       "    </tr>\n",
       "    <tr>\n",
       "      <th>12</th>\n",
       "      <td>Query18</td>\n",
       "      <td>TPCH_SF10</td>\n",
       "      <td>L</td>\n",
       "      <td>0.559333</td>\n",
       "    </tr>\n",
       "    <tr>\n",
       "      <th>13</th>\n",
       "      <td>Query1</td>\n",
       "      <td>TPCH_SF10</td>\n",
       "      <td>S</td>\n",
       "      <td>0.630333</td>\n",
       "    </tr>\n",
       "    <tr>\n",
       "      <th>14</th>\n",
       "      <td>Query5</td>\n",
       "      <td>TPCH_SF1</td>\n",
       "      <td>M</td>\n",
       "      <td>0.798667</td>\n",
       "    </tr>\n",
       "    <tr>\n",
       "      <th>15</th>\n",
       "      <td>Query18</td>\n",
       "      <td>TPCH_SF10</td>\n",
       "      <td>M</td>\n",
       "      <td>0.876667</td>\n",
       "    </tr>\n",
       "    <tr>\n",
       "      <th>16</th>\n",
       "      <td>Query5</td>\n",
       "      <td>TPCH_SF10</td>\n",
       "      <td>L</td>\n",
       "      <td>0.891333</td>\n",
       "    </tr>\n",
       "    <tr>\n",
       "      <th>17</th>\n",
       "      <td>Query18</td>\n",
       "      <td>TPCH_SF10</td>\n",
       "      <td>S</td>\n",
       "      <td>0.909667</td>\n",
       "    </tr>\n",
       "    <tr>\n",
       "      <th>18</th>\n",
       "      <td>Query5</td>\n",
       "      <td>TPCH_SF10</td>\n",
       "      <td>S</td>\n",
       "      <td>0.927000</td>\n",
       "    </tr>\n",
       "    <tr>\n",
       "      <th>19</th>\n",
       "      <td>Query1</td>\n",
       "      <td>TPCH_SF1</td>\n",
       "      <td>M</td>\n",
       "      <td>0.930333</td>\n",
       "    </tr>\n",
       "    <tr>\n",
       "      <th>20</th>\n",
       "      <td>Query1</td>\n",
       "      <td>TPCH_SF10</td>\n",
       "      <td>XS</td>\n",
       "      <td>0.943000</td>\n",
       "    </tr>\n",
       "    <tr>\n",
       "      <th>21</th>\n",
       "      <td>Query5</td>\n",
       "      <td>TPCH_SF10</td>\n",
       "      <td>M</td>\n",
       "      <td>0.946333</td>\n",
       "    </tr>\n",
       "    <tr>\n",
       "      <th>22</th>\n",
       "      <td>Query5</td>\n",
       "      <td>TPCH_SF10</td>\n",
       "      <td>XS</td>\n",
       "      <td>1.070333</td>\n",
       "    </tr>\n",
       "    <tr>\n",
       "      <th>23</th>\n",
       "      <td>Query18</td>\n",
       "      <td>TPCH_SF10</td>\n",
       "      <td>XS</td>\n",
       "      <td>1.274667</td>\n",
       "    </tr>\n",
       "    <tr>\n",
       "      <th>24</th>\n",
       "      <td>Query1</td>\n",
       "      <td>TPCH_SF100</td>\n",
       "      <td>L</td>\n",
       "      <td>1.836333</td>\n",
       "    </tr>\n",
       "    <tr>\n",
       "      <th>25</th>\n",
       "      <td>Query5</td>\n",
       "      <td>TPCH_SF100</td>\n",
       "      <td>L</td>\n",
       "      <td>2.020000</td>\n",
       "    </tr>\n",
       "    <tr>\n",
       "      <th>26</th>\n",
       "      <td>Query18</td>\n",
       "      <td>TPCH_SF100</td>\n",
       "      <td>L</td>\n",
       "      <td>3.094000</td>\n",
       "    </tr>\n",
       "    <tr>\n",
       "      <th>27</th>\n",
       "      <td>Query5</td>\n",
       "      <td>TPCH_SF100</td>\n",
       "      <td>M</td>\n",
       "      <td>3.224333</td>\n",
       "    </tr>\n",
       "    <tr>\n",
       "      <th>28</th>\n",
       "      <td>Query1</td>\n",
       "      <td>TPCH_SF100</td>\n",
       "      <td>M</td>\n",
       "      <td>3.405000</td>\n",
       "    </tr>\n",
       "    <tr>\n",
       "      <th>29</th>\n",
       "      <td>Query5</td>\n",
       "      <td>TPCH_SF100</td>\n",
       "      <td>S</td>\n",
       "      <td>4.344333</td>\n",
       "    </tr>\n",
       "    <tr>\n",
       "      <th>30</th>\n",
       "      <td>Query1</td>\n",
       "      <td>TPCH_SF100</td>\n",
       "      <td>S</td>\n",
       "      <td>5.902667</td>\n",
       "    </tr>\n",
       "    <tr>\n",
       "      <th>31</th>\n",
       "      <td>Query18</td>\n",
       "      <td>TPCH_SF100</td>\n",
       "      <td>M</td>\n",
       "      <td>6.518333</td>\n",
       "    </tr>\n",
       "    <tr>\n",
       "      <th>32</th>\n",
       "      <td>Query5</td>\n",
       "      <td>TPCH_SF100</td>\n",
       "      <td>XS</td>\n",
       "      <td>7.571667</td>\n",
       "    </tr>\n",
       "    <tr>\n",
       "      <th>33</th>\n",
       "      <td>Query1</td>\n",
       "      <td>TPCH_SF100</td>\n",
       "      <td>XS</td>\n",
       "      <td>11.283000</td>\n",
       "    </tr>\n",
       "    <tr>\n",
       "      <th>34</th>\n",
       "      <td>Query18</td>\n",
       "      <td>TPCH_SF100</td>\n",
       "      <td>S</td>\n",
       "      <td>12.661667</td>\n",
       "    </tr>\n",
       "    <tr>\n",
       "      <th>35</th>\n",
       "      <td>Query5</td>\n",
       "      <td>TPCH_SF1000</td>\n",
       "      <td>L</td>\n",
       "      <td>13.438667</td>\n",
       "    </tr>\n",
       "    <tr>\n",
       "      <th>36</th>\n",
       "      <td>Query1</td>\n",
       "      <td>TPCH_SF1000</td>\n",
       "      <td>L</td>\n",
       "      <td>13.788667</td>\n",
       "    </tr>\n",
       "    <tr>\n",
       "      <th>37</th>\n",
       "      <td>Query18</td>\n",
       "      <td>TPCH_SF100</td>\n",
       "      <td>XS</td>\n",
       "      <td>21.721000</td>\n",
       "    </tr>\n",
       "    <tr>\n",
       "      <th>38</th>\n",
       "      <td>Query5</td>\n",
       "      <td>TPCH_SF1000</td>\n",
       "      <td>M</td>\n",
       "      <td>25.895667</td>\n",
       "    </tr>\n",
       "    <tr>\n",
       "      <th>39</th>\n",
       "      <td>Query1</td>\n",
       "      <td>TPCH_SF1000</td>\n",
       "      <td>M</td>\n",
       "      <td>27.559667</td>\n",
       "    </tr>\n",
       "    <tr>\n",
       "      <th>40</th>\n",
       "      <td>Query18</td>\n",
       "      <td>TPCH_SF1000</td>\n",
       "      <td>L</td>\n",
       "      <td>41.281000</td>\n",
       "    </tr>\n",
       "    <tr>\n",
       "      <th>41</th>\n",
       "      <td>Query5</td>\n",
       "      <td>TPCH_SF1000</td>\n",
       "      <td>S</td>\n",
       "      <td>50.502667</td>\n",
       "    </tr>\n",
       "    <tr>\n",
       "      <th>42</th>\n",
       "      <td>Query1</td>\n",
       "      <td>TPCH_SF1000</td>\n",
       "      <td>S</td>\n",
       "      <td>54.574333</td>\n",
       "    </tr>\n",
       "    <tr>\n",
       "      <th>43</th>\n",
       "      <td>Query18</td>\n",
       "      <td>TPCH_SF1000</td>\n",
       "      <td>M</td>\n",
       "      <td>91.807333</td>\n",
       "    </tr>\n",
       "    <tr>\n",
       "      <th>44</th>\n",
       "      <td>Query5</td>\n",
       "      <td>TPCH_SF1000</td>\n",
       "      <td>XS</td>\n",
       "      <td>104.541000</td>\n",
       "    </tr>\n",
       "    <tr>\n",
       "      <th>45</th>\n",
       "      <td>Query1</td>\n",
       "      <td>TPCH_SF1000</td>\n",
       "      <td>XS</td>\n",
       "      <td>110.759000</td>\n",
       "    </tr>\n",
       "    <tr>\n",
       "      <th>46</th>\n",
       "      <td>Query18</td>\n",
       "      <td>TPCH_SF1000</td>\n",
       "      <td>S</td>\n",
       "      <td>200.087667</td>\n",
       "    </tr>\n",
       "    <tr>\n",
       "      <th>47</th>\n",
       "      <td>Query18</td>\n",
       "      <td>TPCH_SF1000</td>\n",
       "      <td>XS</td>\n",
       "      <td>388.132000</td>\n",
       "    </tr>\n",
       "  </tbody>\n",
       "</table>\n",
       "</div>"
      ],
      "text/plain": [
       "   query_name  schema_name warehouse_size  average_time_seconds\n",
       "0     Query18     TPCH_SF1              L              0.267667\n",
       "1     Query18     TPCH_SF1              M              0.295667\n",
       "2     Query18     TPCH_SF1              S              0.309667\n",
       "3      Query1     TPCH_SF1              L              0.364333\n",
       "4     Query18     TPCH_SF1             XS              0.367333\n",
       "5      Query1     TPCH_SF1             XS              0.390333\n",
       "6      Query1    TPCH_SF10              L              0.402667\n",
       "7      Query5     TPCH_SF1              L              0.448333\n",
       "8      Query1     TPCH_SF1              S              0.456000\n",
       "9      Query5     TPCH_SF1             XS              0.479000\n",
       "10     Query5     TPCH_SF1              S              0.495333\n",
       "11     Query1    TPCH_SF10              M              0.497667\n",
       "12    Query18    TPCH_SF10              L              0.559333\n",
       "13     Query1    TPCH_SF10              S              0.630333\n",
       "14     Query5     TPCH_SF1              M              0.798667\n",
       "15    Query18    TPCH_SF10              M              0.876667\n",
       "16     Query5    TPCH_SF10              L              0.891333\n",
       "17    Query18    TPCH_SF10              S              0.909667\n",
       "18     Query5    TPCH_SF10              S              0.927000\n",
       "19     Query1     TPCH_SF1              M              0.930333\n",
       "20     Query1    TPCH_SF10             XS              0.943000\n",
       "21     Query5    TPCH_SF10              M              0.946333\n",
       "22     Query5    TPCH_SF10             XS              1.070333\n",
       "23    Query18    TPCH_SF10             XS              1.274667\n",
       "24     Query1   TPCH_SF100              L              1.836333\n",
       "25     Query5   TPCH_SF100              L              2.020000\n",
       "26    Query18   TPCH_SF100              L              3.094000\n",
       "27     Query5   TPCH_SF100              M              3.224333\n",
       "28     Query1   TPCH_SF100              M              3.405000\n",
       "29     Query5   TPCH_SF100              S              4.344333\n",
       "30     Query1   TPCH_SF100              S              5.902667\n",
       "31    Query18   TPCH_SF100              M              6.518333\n",
       "32     Query5   TPCH_SF100             XS              7.571667\n",
       "33     Query1   TPCH_SF100             XS             11.283000\n",
       "34    Query18   TPCH_SF100              S             12.661667\n",
       "35     Query5  TPCH_SF1000              L             13.438667\n",
       "36     Query1  TPCH_SF1000              L             13.788667\n",
       "37    Query18   TPCH_SF100             XS             21.721000\n",
       "38     Query5  TPCH_SF1000              M             25.895667\n",
       "39     Query1  TPCH_SF1000              M             27.559667\n",
       "40    Query18  TPCH_SF1000              L             41.281000\n",
       "41     Query5  TPCH_SF1000              S             50.502667\n",
       "42     Query1  TPCH_SF1000              S             54.574333\n",
       "43    Query18  TPCH_SF1000              M             91.807333\n",
       "44     Query5  TPCH_SF1000             XS            104.541000\n",
       "45     Query1  TPCH_SF1000             XS            110.759000\n",
       "46    Query18  TPCH_SF1000              S            200.087667\n",
       "47    Query18  TPCH_SF1000             XS            388.132000"
      ]
     },
     "execution_count": 10,
     "metadata": {},
     "output_type": "execute_result"
    }
   ],
   "source": [
    "average_times_df = pd.read_csv('../tpch_benchmark/average_query_execution_times.csv')\n",
    "average_times_df"
   ]
  },
  {
   "cell_type": "markdown",
   "metadata": {},
   "source": [
    "## Plotting the Results"
   ]
  },
  {
   "cell_type": "code",
   "execution_count": 11,
   "metadata": {},
   "outputs": [
    {
     "data": {
      "application/vnd.plotly.v1+json": {
       "config": {
        "plotlyServerURL": "https://plot.ly"
       },
       "data": [
        {
         "hovertemplate": "warehouse_size=XS<br>query_name=Query1<br>Schema=%{x}<br>Average Time (seconds)=%{y}<extra></extra>",
         "legendgroup": "XS",
         "line": {
          "color": "red",
          "dash": "solid"
         },
         "marker": {
          "symbol": "circle"
         },
         "mode": "lines+markers",
         "name": "XS",
         "orientation": "v",
         "showlegend": true,
         "type": "scatter",
         "x": [
          "TPCH_SF1",
          "TPCH_SF10",
          "TPCH_SF100",
          "TPCH_SF1000"
         ],
         "xaxis": "x",
         "y": [
          0.3903333333333333,
          0.943,
          11.283,
          110.759
         ],
         "yaxis": "y"
        },
        {
         "hovertemplate": "warehouse_size=XS<br>query_name=Query5<br>Schema=%{x}<br>Average Time (seconds)=%{y}<extra></extra>",
         "legendgroup": "XS",
         "line": {
          "color": "red",
          "dash": "solid"
         },
         "marker": {
          "symbol": "circle"
         },
         "mode": "lines+markers",
         "name": "XS",
         "orientation": "v",
         "showlegend": false,
         "type": "scatter",
         "x": [
          "TPCH_SF1",
          "TPCH_SF10",
          "TPCH_SF100",
          "TPCH_SF1000"
         ],
         "xaxis": "x2",
         "y": [
          0.479,
          1.0703333333333334,
          7.571666666666666,
          104.541
         ],
         "yaxis": "y2"
        },
        {
         "hovertemplate": "warehouse_size=XS<br>query_name=Query18<br>Schema=%{x}<br>Average Time (seconds)=%{y}<extra></extra>",
         "legendgroup": "XS",
         "line": {
          "color": "red",
          "dash": "solid"
         },
         "marker": {
          "symbol": "circle"
         },
         "mode": "lines+markers",
         "name": "XS",
         "orientation": "v",
         "showlegend": false,
         "type": "scatter",
         "x": [
          "TPCH_SF1",
          "TPCH_SF10",
          "TPCH_SF100",
          "TPCH_SF1000"
         ],
         "xaxis": "x3",
         "y": [
          0.3673333333333333,
          1.2746666666666666,
          21.721,
          388.132
         ],
         "yaxis": "y3"
        },
        {
         "hovertemplate": "warehouse_size=S<br>query_name=Query1<br>Schema=%{x}<br>Average Time (seconds)=%{y}<extra></extra>",
         "legendgroup": "S",
         "line": {
          "color": "blue",
          "dash": "solid"
         },
         "marker": {
          "symbol": "diamond"
         },
         "mode": "lines+markers",
         "name": "S",
         "orientation": "v",
         "showlegend": true,
         "type": "scatter",
         "x": [
          "TPCH_SF1",
          "TPCH_SF10",
          "TPCH_SF100",
          "TPCH_SF1000"
         ],
         "xaxis": "x",
         "y": [
          0.456,
          0.6303333333333333,
          5.902666666666666,
          54.574333333333335
         ],
         "yaxis": "y"
        },
        {
         "hovertemplate": "warehouse_size=S<br>query_name=Query5<br>Schema=%{x}<br>Average Time (seconds)=%{y}<extra></extra>",
         "legendgroup": "S",
         "line": {
          "color": "blue",
          "dash": "solid"
         },
         "marker": {
          "symbol": "diamond"
         },
         "mode": "lines+markers",
         "name": "S",
         "orientation": "v",
         "showlegend": false,
         "type": "scatter",
         "x": [
          "TPCH_SF1",
          "TPCH_SF10",
          "TPCH_SF100",
          "TPCH_SF1000"
         ],
         "xaxis": "x2",
         "y": [
          0.4953333333333333,
          0.927,
          4.344333333333333,
          50.50266666666667
         ],
         "yaxis": "y2"
        },
        {
         "hovertemplate": "warehouse_size=S<br>query_name=Query18<br>Schema=%{x}<br>Average Time (seconds)=%{y}<extra></extra>",
         "legendgroup": "S",
         "line": {
          "color": "blue",
          "dash": "solid"
         },
         "marker": {
          "symbol": "diamond"
         },
         "mode": "lines+markers",
         "name": "S",
         "orientation": "v",
         "showlegend": false,
         "type": "scatter",
         "x": [
          "TPCH_SF1",
          "TPCH_SF10",
          "TPCH_SF100",
          "TPCH_SF1000"
         ],
         "xaxis": "x3",
         "y": [
          0.3096666666666667,
          0.9096666666666668,
          12.661666666666669,
          200.08766666666668
         ],
         "yaxis": "y3"
        },
        {
         "hovertemplate": "warehouse_size=M<br>query_name=Query1<br>Schema=%{x}<br>Average Time (seconds)=%{y}<extra></extra>",
         "legendgroup": "M",
         "line": {
          "color": "green",
          "dash": "solid"
         },
         "marker": {
          "symbol": "square"
         },
         "mode": "lines+markers",
         "name": "M",
         "orientation": "v",
         "showlegend": true,
         "type": "scatter",
         "x": [
          "TPCH_SF10",
          "TPCH_SF1",
          "TPCH_SF100",
          "TPCH_SF1000"
         ],
         "xaxis": "x",
         "y": [
          0.4976666666666667,
          0.9303333333333332,
          3.405,
          27.55966666666667
         ],
         "yaxis": "y"
        },
        {
         "hovertemplate": "warehouse_size=M<br>query_name=Query5<br>Schema=%{x}<br>Average Time (seconds)=%{y}<extra></extra>",
         "legendgroup": "M",
         "line": {
          "color": "green",
          "dash": "solid"
         },
         "marker": {
          "symbol": "square"
         },
         "mode": "lines+markers",
         "name": "M",
         "orientation": "v",
         "showlegend": false,
         "type": "scatter",
         "x": [
          "TPCH_SF1",
          "TPCH_SF10",
          "TPCH_SF100",
          "TPCH_SF1000"
         ],
         "xaxis": "x2",
         "y": [
          0.7986666666666666,
          0.9463333333333334,
          3.2243333333333335,
          25.895666666666667
         ],
         "yaxis": "y2"
        },
        {
         "hovertemplate": "warehouse_size=M<br>query_name=Query18<br>Schema=%{x}<br>Average Time (seconds)=%{y}<extra></extra>",
         "legendgroup": "M",
         "line": {
          "color": "green",
          "dash": "solid"
         },
         "marker": {
          "symbol": "square"
         },
         "mode": "lines+markers",
         "name": "M",
         "orientation": "v",
         "showlegend": false,
         "type": "scatter",
         "x": [
          "TPCH_SF1",
          "TPCH_SF10",
          "TPCH_SF100",
          "TPCH_SF1000"
         ],
         "xaxis": "x3",
         "y": [
          0.2956666666666667,
          0.8766666666666666,
          6.5183333333333335,
          91.80733333333336
         ],
         "yaxis": "y3"
        },
        {
         "hovertemplate": "warehouse_size=L<br>query_name=Query1<br>Schema=%{x}<br>Average Time (seconds)=%{y}<extra></extra>",
         "legendgroup": "L",
         "line": {
          "color": "purple",
          "dash": "solid"
         },
         "marker": {
          "symbol": "x"
         },
         "mode": "lines+markers",
         "name": "L",
         "orientation": "v",
         "showlegend": true,
         "type": "scatter",
         "x": [
          "TPCH_SF1",
          "TPCH_SF10",
          "TPCH_SF100",
          "TPCH_SF1000"
         ],
         "xaxis": "x",
         "y": [
          0.3643333333333333,
          0.4026666666666667,
          1.8363333333333336,
          13.788666666666666
         ],
         "yaxis": "y"
        },
        {
         "hovertemplate": "warehouse_size=L<br>query_name=Query5<br>Schema=%{x}<br>Average Time (seconds)=%{y}<extra></extra>",
         "legendgroup": "L",
         "line": {
          "color": "purple",
          "dash": "solid"
         },
         "marker": {
          "symbol": "x"
         },
         "mode": "lines+markers",
         "name": "L",
         "orientation": "v",
         "showlegend": false,
         "type": "scatter",
         "x": [
          "TPCH_SF1",
          "TPCH_SF10",
          "TPCH_SF100",
          "TPCH_SF1000"
         ],
         "xaxis": "x2",
         "y": [
          0.4483333333333333,
          0.8913333333333333,
          2.02,
          13.438666666666668
         ],
         "yaxis": "y2"
        },
        {
         "hovertemplate": "warehouse_size=L<br>query_name=Query18<br>Schema=%{x}<br>Average Time (seconds)=%{y}<extra></extra>",
         "legendgroup": "L",
         "line": {
          "color": "purple",
          "dash": "solid"
         },
         "marker": {
          "symbol": "x"
         },
         "mode": "lines+markers",
         "name": "L",
         "orientation": "v",
         "showlegend": false,
         "type": "scatter",
         "x": [
          "TPCH_SF1",
          "TPCH_SF10",
          "TPCH_SF100",
          "TPCH_SF1000"
         ],
         "xaxis": "x3",
         "y": [
          0.2676666666666666,
          0.5593333333333333,
          3.094,
          41.281
         ],
         "yaxis": "y3"
        }
       ],
       "layout": {
        "annotations": [
         {
          "font": {},
          "showarrow": false,
          "text": "Query1",
          "x": 0.15999999999999998,
          "xanchor": "center",
          "xref": "paper",
          "y": 1,
          "yanchor": "bottom",
          "yref": "paper"
         },
         {
          "font": {},
          "showarrow": false,
          "text": "Query5",
          "x": 0.49999999999999994,
          "xanchor": "center",
          "xref": "paper",
          "y": 1,
          "yanchor": "bottom",
          "yref": "paper"
         },
         {
          "font": {},
          "showarrow": false,
          "text": "Query18",
          "x": 0.8399999999999999,
          "xanchor": "center",
          "xref": "paper",
          "y": 1,
          "yanchor": "bottom",
          "yref": "paper"
         }
        ],
        "legend": {
         "title": {
          "text": "Warehouse Size"
         },
         "tracegroupgap": 0
        },
        "margin": {
         "t": 60
        },
        "template": {
         "data": {
          "bar": [
           {
            "error_x": {
             "color": "#2a3f5f"
            },
            "error_y": {
             "color": "#2a3f5f"
            },
            "marker": {
             "line": {
              "color": "#E5ECF6",
              "width": 0.5
             },
             "pattern": {
              "fillmode": "overlay",
              "size": 10,
              "solidity": 0.2
             }
            },
            "type": "bar"
           }
          ],
          "barpolar": [
           {
            "marker": {
             "line": {
              "color": "#E5ECF6",
              "width": 0.5
             },
             "pattern": {
              "fillmode": "overlay",
              "size": 10,
              "solidity": 0.2
             }
            },
            "type": "barpolar"
           }
          ],
          "carpet": [
           {
            "aaxis": {
             "endlinecolor": "#2a3f5f",
             "gridcolor": "white",
             "linecolor": "white",
             "minorgridcolor": "white",
             "startlinecolor": "#2a3f5f"
            },
            "baxis": {
             "endlinecolor": "#2a3f5f",
             "gridcolor": "white",
             "linecolor": "white",
             "minorgridcolor": "white",
             "startlinecolor": "#2a3f5f"
            },
            "type": "carpet"
           }
          ],
          "choropleth": [
           {
            "colorbar": {
             "outlinewidth": 0,
             "ticks": ""
            },
            "type": "choropleth"
           }
          ],
          "contour": [
           {
            "colorbar": {
             "outlinewidth": 0,
             "ticks": ""
            },
            "colorscale": [
             [
              0,
              "#0d0887"
             ],
             [
              0.1111111111111111,
              "#46039f"
             ],
             [
              0.2222222222222222,
              "#7201a8"
             ],
             [
              0.3333333333333333,
              "#9c179e"
             ],
             [
              0.4444444444444444,
              "#bd3786"
             ],
             [
              0.5555555555555556,
              "#d8576b"
             ],
             [
              0.6666666666666666,
              "#ed7953"
             ],
             [
              0.7777777777777778,
              "#fb9f3a"
             ],
             [
              0.8888888888888888,
              "#fdca26"
             ],
             [
              1,
              "#f0f921"
             ]
            ],
            "type": "contour"
           }
          ],
          "contourcarpet": [
           {
            "colorbar": {
             "outlinewidth": 0,
             "ticks": ""
            },
            "type": "contourcarpet"
           }
          ],
          "heatmap": [
           {
            "colorbar": {
             "outlinewidth": 0,
             "ticks": ""
            },
            "colorscale": [
             [
              0,
              "#0d0887"
             ],
             [
              0.1111111111111111,
              "#46039f"
             ],
             [
              0.2222222222222222,
              "#7201a8"
             ],
             [
              0.3333333333333333,
              "#9c179e"
             ],
             [
              0.4444444444444444,
              "#bd3786"
             ],
             [
              0.5555555555555556,
              "#d8576b"
             ],
             [
              0.6666666666666666,
              "#ed7953"
             ],
             [
              0.7777777777777778,
              "#fb9f3a"
             ],
             [
              0.8888888888888888,
              "#fdca26"
             ],
             [
              1,
              "#f0f921"
             ]
            ],
            "type": "heatmap"
           }
          ],
          "heatmapgl": [
           {
            "colorbar": {
             "outlinewidth": 0,
             "ticks": ""
            },
            "colorscale": [
             [
              0,
              "#0d0887"
             ],
             [
              0.1111111111111111,
              "#46039f"
             ],
             [
              0.2222222222222222,
              "#7201a8"
             ],
             [
              0.3333333333333333,
              "#9c179e"
             ],
             [
              0.4444444444444444,
              "#bd3786"
             ],
             [
              0.5555555555555556,
              "#d8576b"
             ],
             [
              0.6666666666666666,
              "#ed7953"
             ],
             [
              0.7777777777777778,
              "#fb9f3a"
             ],
             [
              0.8888888888888888,
              "#fdca26"
             ],
             [
              1,
              "#f0f921"
             ]
            ],
            "type": "heatmapgl"
           }
          ],
          "histogram": [
           {
            "marker": {
             "pattern": {
              "fillmode": "overlay",
              "size": 10,
              "solidity": 0.2
             }
            },
            "type": "histogram"
           }
          ],
          "histogram2d": [
           {
            "colorbar": {
             "outlinewidth": 0,
             "ticks": ""
            },
            "colorscale": [
             [
              0,
              "#0d0887"
             ],
             [
              0.1111111111111111,
              "#46039f"
             ],
             [
              0.2222222222222222,
              "#7201a8"
             ],
             [
              0.3333333333333333,
              "#9c179e"
             ],
             [
              0.4444444444444444,
              "#bd3786"
             ],
             [
              0.5555555555555556,
              "#d8576b"
             ],
             [
              0.6666666666666666,
              "#ed7953"
             ],
             [
              0.7777777777777778,
              "#fb9f3a"
             ],
             [
              0.8888888888888888,
              "#fdca26"
             ],
             [
              1,
              "#f0f921"
             ]
            ],
            "type": "histogram2d"
           }
          ],
          "histogram2dcontour": [
           {
            "colorbar": {
             "outlinewidth": 0,
             "ticks": ""
            },
            "colorscale": [
             [
              0,
              "#0d0887"
             ],
             [
              0.1111111111111111,
              "#46039f"
             ],
             [
              0.2222222222222222,
              "#7201a8"
             ],
             [
              0.3333333333333333,
              "#9c179e"
             ],
             [
              0.4444444444444444,
              "#bd3786"
             ],
             [
              0.5555555555555556,
              "#d8576b"
             ],
             [
              0.6666666666666666,
              "#ed7953"
             ],
             [
              0.7777777777777778,
              "#fb9f3a"
             ],
             [
              0.8888888888888888,
              "#fdca26"
             ],
             [
              1,
              "#f0f921"
             ]
            ],
            "type": "histogram2dcontour"
           }
          ],
          "mesh3d": [
           {
            "colorbar": {
             "outlinewidth": 0,
             "ticks": ""
            },
            "type": "mesh3d"
           }
          ],
          "parcoords": [
           {
            "line": {
             "colorbar": {
              "outlinewidth": 0,
              "ticks": ""
             }
            },
            "type": "parcoords"
           }
          ],
          "pie": [
           {
            "automargin": true,
            "type": "pie"
           }
          ],
          "scatter": [
           {
            "fillpattern": {
             "fillmode": "overlay",
             "size": 10,
             "solidity": 0.2
            },
            "type": "scatter"
           }
          ],
          "scatter3d": [
           {
            "line": {
             "colorbar": {
              "outlinewidth": 0,
              "ticks": ""
             }
            },
            "marker": {
             "colorbar": {
              "outlinewidth": 0,
              "ticks": ""
             }
            },
            "type": "scatter3d"
           }
          ],
          "scattercarpet": [
           {
            "marker": {
             "colorbar": {
              "outlinewidth": 0,
              "ticks": ""
             }
            },
            "type": "scattercarpet"
           }
          ],
          "scattergeo": [
           {
            "marker": {
             "colorbar": {
              "outlinewidth": 0,
              "ticks": ""
             }
            },
            "type": "scattergeo"
           }
          ],
          "scattergl": [
           {
            "marker": {
             "colorbar": {
              "outlinewidth": 0,
              "ticks": ""
             }
            },
            "type": "scattergl"
           }
          ],
          "scattermapbox": [
           {
            "marker": {
             "colorbar": {
              "outlinewidth": 0,
              "ticks": ""
             }
            },
            "type": "scattermapbox"
           }
          ],
          "scatterpolar": [
           {
            "marker": {
             "colorbar": {
              "outlinewidth": 0,
              "ticks": ""
             }
            },
            "type": "scatterpolar"
           }
          ],
          "scatterpolargl": [
           {
            "marker": {
             "colorbar": {
              "outlinewidth": 0,
              "ticks": ""
             }
            },
            "type": "scatterpolargl"
           }
          ],
          "scatterternary": [
           {
            "marker": {
             "colorbar": {
              "outlinewidth": 0,
              "ticks": ""
             }
            },
            "type": "scatterternary"
           }
          ],
          "surface": [
           {
            "colorbar": {
             "outlinewidth": 0,
             "ticks": ""
            },
            "colorscale": [
             [
              0,
              "#0d0887"
             ],
             [
              0.1111111111111111,
              "#46039f"
             ],
             [
              0.2222222222222222,
              "#7201a8"
             ],
             [
              0.3333333333333333,
              "#9c179e"
             ],
             [
              0.4444444444444444,
              "#bd3786"
             ],
             [
              0.5555555555555556,
              "#d8576b"
             ],
             [
              0.6666666666666666,
              "#ed7953"
             ],
             [
              0.7777777777777778,
              "#fb9f3a"
             ],
             [
              0.8888888888888888,
              "#fdca26"
             ],
             [
              1,
              "#f0f921"
             ]
            ],
            "type": "surface"
           }
          ],
          "table": [
           {
            "cells": {
             "fill": {
              "color": "#EBF0F8"
             },
             "line": {
              "color": "white"
             }
            },
            "header": {
             "fill": {
              "color": "#C8D4E3"
             },
             "line": {
              "color": "white"
             }
            },
            "type": "table"
           }
          ]
         },
         "layout": {
          "annotationdefaults": {
           "arrowcolor": "#2a3f5f",
           "arrowhead": 0,
           "arrowwidth": 1
          },
          "autotypenumbers": "strict",
          "coloraxis": {
           "colorbar": {
            "outlinewidth": 0,
            "ticks": ""
           }
          },
          "colorscale": {
           "diverging": [
            [
             0,
             "#8e0152"
            ],
            [
             0.1,
             "#c51b7d"
            ],
            [
             0.2,
             "#de77ae"
            ],
            [
             0.3,
             "#f1b6da"
            ],
            [
             0.4,
             "#fde0ef"
            ],
            [
             0.5,
             "#f7f7f7"
            ],
            [
             0.6,
             "#e6f5d0"
            ],
            [
             0.7,
             "#b8e186"
            ],
            [
             0.8,
             "#7fbc41"
            ],
            [
             0.9,
             "#4d9221"
            ],
            [
             1,
             "#276419"
            ]
           ],
           "sequential": [
            [
             0,
             "#0d0887"
            ],
            [
             0.1111111111111111,
             "#46039f"
            ],
            [
             0.2222222222222222,
             "#7201a8"
            ],
            [
             0.3333333333333333,
             "#9c179e"
            ],
            [
             0.4444444444444444,
             "#bd3786"
            ],
            [
             0.5555555555555556,
             "#d8576b"
            ],
            [
             0.6666666666666666,
             "#ed7953"
            ],
            [
             0.7777777777777778,
             "#fb9f3a"
            ],
            [
             0.8888888888888888,
             "#fdca26"
            ],
            [
             1,
             "#f0f921"
            ]
           ],
           "sequentialminus": [
            [
             0,
             "#0d0887"
            ],
            [
             0.1111111111111111,
             "#46039f"
            ],
            [
             0.2222222222222222,
             "#7201a8"
            ],
            [
             0.3333333333333333,
             "#9c179e"
            ],
            [
             0.4444444444444444,
             "#bd3786"
            ],
            [
             0.5555555555555556,
             "#d8576b"
            ],
            [
             0.6666666666666666,
             "#ed7953"
            ],
            [
             0.7777777777777778,
             "#fb9f3a"
            ],
            [
             0.8888888888888888,
             "#fdca26"
            ],
            [
             1,
             "#f0f921"
            ]
           ]
          },
          "colorway": [
           "#636efa",
           "#EF553B",
           "#00cc96",
           "#ab63fa",
           "#FFA15A",
           "#19d3f3",
           "#FF6692",
           "#B6E880",
           "#FF97FF",
           "#FECB52"
          ],
          "font": {
           "color": "#2a3f5f"
          },
          "geo": {
           "bgcolor": "white",
           "lakecolor": "white",
           "landcolor": "#E5ECF6",
           "showlakes": true,
           "showland": true,
           "subunitcolor": "white"
          },
          "hoverlabel": {
           "align": "left"
          },
          "hovermode": "closest",
          "mapbox": {
           "style": "light"
          },
          "paper_bgcolor": "white",
          "plot_bgcolor": "#E5ECF6",
          "polar": {
           "angularaxis": {
            "gridcolor": "white",
            "linecolor": "white",
            "ticks": ""
           },
           "bgcolor": "#E5ECF6",
           "radialaxis": {
            "gridcolor": "white",
            "linecolor": "white",
            "ticks": ""
           }
          },
          "scene": {
           "xaxis": {
            "backgroundcolor": "#E5ECF6",
            "gridcolor": "white",
            "gridwidth": 2,
            "linecolor": "white",
            "showbackground": true,
            "ticks": "",
            "zerolinecolor": "white"
           },
           "yaxis": {
            "backgroundcolor": "#E5ECF6",
            "gridcolor": "white",
            "gridwidth": 2,
            "linecolor": "white",
            "showbackground": true,
            "ticks": "",
            "zerolinecolor": "white"
           },
           "zaxis": {
            "backgroundcolor": "#E5ECF6",
            "gridcolor": "white",
            "gridwidth": 2,
            "linecolor": "white",
            "showbackground": true,
            "ticks": "",
            "zerolinecolor": "white"
           }
          },
          "shapedefaults": {
           "line": {
            "color": "#2a3f5f"
           }
          },
          "ternary": {
           "aaxis": {
            "gridcolor": "white",
            "linecolor": "white",
            "ticks": ""
           },
           "baxis": {
            "gridcolor": "white",
            "linecolor": "white",
            "ticks": ""
           },
           "bgcolor": "#E5ECF6",
           "caxis": {
            "gridcolor": "white",
            "linecolor": "white",
            "ticks": ""
           }
          },
          "title": {
           "x": 0.05
          },
          "xaxis": {
           "automargin": true,
           "gridcolor": "white",
           "linecolor": "white",
           "ticks": "",
           "title": {
            "standoff": 15
           },
           "zerolinecolor": "white",
           "zerolinewidth": 2
          },
          "yaxis": {
           "automargin": true,
           "gridcolor": "white",
           "linecolor": "white",
           "ticks": "",
           "title": {
            "standoff": 15
           },
           "zerolinecolor": "white",
           "zerolinewidth": 2
          }
         }
        },
        "xaxis": {
         "anchor": "y",
         "domain": [
          0,
          0.31999999999999995
         ],
         "title": {
          "text": "Schema"
         }
        },
        "xaxis2": {
         "anchor": "y2",
         "domain": [
          0.33999999999999997,
          0.6599999999999999
         ],
         "matches": "x",
         "title": {
          "text": "Schema"
         }
        },
        "xaxis3": {
         "anchor": "y3",
         "domain": [
          0.6799999999999999,
          0.9999999999999999
         ],
         "matches": "x",
         "title": {
          "text": "Schema"
         }
        },
        "yaxis": {
         "anchor": "x",
         "autorange": false,
         "domain": [
          0,
          1
         ],
         "range": [
          -1,
          3
         ],
         "tickmode": "array",
         "tickvals": [
          0.1,
          1,
          10,
          100,
          1000
         ],
         "title": {
          "text": "Average Time (seconds)"
         },
         "type": "log"
        },
        "yaxis2": {
         "anchor": "x2",
         "autorange": false,
         "domain": [
          0,
          1
         ],
         "matches": "y",
         "range": [
          -1,
          3
         ],
         "showticklabels": false,
         "tickmode": "array",
         "tickvals": [
          0.1,
          1,
          10,
          100,
          1000
         ],
         "type": "log"
        },
        "yaxis3": {
         "anchor": "x3",
         "autorange": false,
         "domain": [
          0,
          1
         ],
         "matches": "y",
         "range": [
          -1,
          3
         ],
         "showticklabels": false,
         "tickmode": "array",
         "tickvals": [
          0.1,
          1,
          10,
          100,
          1000
         ],
         "type": "log"
        }
       }
      }
     },
     "metadata": {},
     "output_type": "display_data"
    }
   ],
   "source": [
    "color_map = {\n",
    "    'XS': 'red',  \n",
    "    'S': 'blue',\n",
    "    'M': 'green',\n",
    "    'L': 'purple'\n",
    "}\n",
    "\n",
    "query_order = ['Query1', 'Query5', 'Query18'] \n",
    "\n",
    "fig = px.line(average_times_df, \n",
    "              x='schema_name', \n",
    "              y='average_time_seconds', \n",
    "              color='warehouse_size', \n",
    "              symbol=\"warehouse_size\",\n",
    "              color_discrete_map=color_map, \n",
    "              category_orders={\n",
    "                  \"warehouse_size\": warehouse_sizes, \n",
    "                  \"query_name\": query_order  \n",
    "              },\n",
    "              facet_col=\"query_name\", \n",
    "              labels={\n",
    "                  \"schema_name\": \"Schema\",\n",
    "                  \"average_time_seconds\": \"Average Time (seconds)\"\n",
    "              })\n",
    "\n",
    "fig.update_layout(\n",
    "    legend_title=\"Warehouse Size\",\n",
    "    xaxis_title=\"Schema\"\n",
    ")\n",
    "\n",
    "fig.update_yaxes(type='log', \n",
    "                 tickmode='array',\n",
    "                 tickvals=[0.1, 1, 10, 100, 1000],\n",
    "                 autorange=False,\n",
    "                 range=[-1, 3] \n",
    "                )\n",
    "\n",
    "fig.for_each_annotation(lambda a: a.update(text=a.text.split(\"=\")[1]))\n",
    "\n",
    "fig.show()"
   ]
  }
 ],
 "metadata": {
  "kernelspec": {
   "display_name": "Python 3",
   "language": "python",
   "name": "python3"
  },
  "language_info": {
   "codemirror_mode": {
    "name": "ipython",
    "version": 3
   },
   "file_extension": ".py",
   "mimetype": "text/x-python",
   "name": "python",
   "nbconvert_exporter": "python",
   "pygments_lexer": "ipython3",
   "version": "3.12.6"
  }
 },
 "nbformat": 4,
 "nbformat_minor": 2
}
